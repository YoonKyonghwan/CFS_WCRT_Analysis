{
 "cells": [
  {
   "cell_type": "code",
   "execution_count": 7,
   "metadata": {},
   "outputs": [],
   "source": [
    "import os\n",
    "import json\n",
    "\n",
    "result_dir = \"../exp_results\"\n",
    "num_cores = [1]\n",
    "num_tasks = [3,6,9,12]\n",
    "utilizations = [0.4, 0.6, 0.8]\n",
    "num_tasksets = 20\n",
    "summary_path = result_dir + \"/summary.csv\"\n",
    "\n",
    "# if summary file exists, remove it\n",
    "if os.path.exists(summary_path):\n",
    "    os.remove(summary_path)\n",
    "    \n",
    "header = \"numCores,numTasks,utilization,tasksetIndex,realLinux_schedulability\"\n",
    "with open(summary_path, \"a\") as f:\n",
    "    f.write(header + \"\\n\")\n",
    "\n",
    "for num_core in num_cores:\n",
    "    for num_task in num_tasks:\n",
    "        for utilization in utilizations:\n",
    "            for i in range(num_tasksets):\n",
    "                result_file = result_dir + \"/details/\" + str(num_core) + \"cores/\" + str(num_task) + \"tasks/\" + str(utilization) + \"utilization/result_\" + str(i) + \".json\"\n",
    "                with open(result_file, 'r') as file:\n",
    "                    tasks_result = json.load(file)\n",
    "                assert len(tasks_result) == num_task\n",
    "                \n",
    "                realLinux_schedulability = True\n",
    "                for task_result in tasks_result:\n",
    "                    if task_result[\"wcrt_ns\"] > task_result[\"deadline_ns\"]:\n",
    "                        realLinux_schedulability = False\n",
    "                        break\n",
    "                with open(summary_path, \"a\") as f:\n",
    "                    f.write(str(num_core) + \",\" + str(num_task) + \",\" + str(utilization) + \",\" + str(i) + \",\" + str(realLinux_schedulability) + \"\\n\")\n",
    "                \n"
   ]
  }
 ],
 "metadata": {
  "kernelspec": {
   "display_name": "venv",
   "language": "python",
   "name": "python3"
  },
  "language_info": {
   "codemirror_mode": {
    "name": "ipython",
    "version": 3
   },
   "file_extension": ".py",
   "mimetype": "text/x-python",
   "name": "python",
   "nbconvert_exporter": "python",
   "pygments_lexer": "ipython3",
   "version": "3.8.10"
  }
 },
 "nbformat": 4,
 "nbformat_minor": 2
}
