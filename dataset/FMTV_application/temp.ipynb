{
 "cells": [
  {
   "cell_type": "code",
   "execution_count": 4,
   "metadata": {},
   "outputs": [
    {
     "name": "stdout",
     "output_type": "stream",
     "text": [
      "Task_1000ms.csv\n",
      "ISR_11.csv\n",
      "ISR_5.csv\n",
      "ISR_10.csv\n",
      "Task_200ms.csv\n",
      "ISR_7.csv\n",
      "Task_100ms.csv\n",
      "Task_20ms.csv\n",
      "Task_2ms.csv\n",
      "ISR_9.csv\n",
      "ISR_4.csv\n",
      "ISR_1.csv\n",
      "Task_10ms.csv\n",
      "Task_50ms.csv\n",
      "ISR_6.csv\n",
      "ISR_3.csv\n",
      "ISR_2.csv\n",
      "ISR_8.csv\n",
      "Task_5ms.csv\n",
      "Task_1ms.csv\n",
      "Angle_Sync.csv\n",
      "17431910\n"
     ]
    }
   ],
   "source": [
    "# check the max value in elements of files in a directory\n",
    "import os\n",
    "import sys\n",
    "\n",
    "directory = \"./generated_FMTV_data/task_execution_time/\"\n",
    "max_value = 0\n",
    "for filename in os.listdir(directory):\n",
    "    if filename.endswith(\".csv\"):\n",
    "        # print(filename)\n",
    "        with open(directory + filename, 'r') as file:\n",
    "            for line in file:\n",
    "                for value in line.split(','):\n",
    "                    if int(value) > max_value:\n",
    "                        max_value = int(value)\n",
    "print(max_value)"
   ]
  },
  {
   "cell_type": "code",
   "execution_count": 8,
   "metadata": {},
   "outputs": [
    {
     "name": "stdout",
     "output_type": "stream",
     "text": [
      "Task_1000ms.csv\n",
      "ISR_11.csv\n",
      "ISR_5.csv\n",
      "ISR_10.csv\n",
      "Task_200ms.csv\n",
      "ISR_7.csv\n",
      "Task_100ms.csv\n",
      "Task_20ms.csv\n",
      "Task_2ms.csv\n",
      "ISR_9.csv\n",
      "ISR_4.csv\n",
      "ISR_1.csv\n",
      "Task_10ms.csv\n",
      "Task_50ms.csv\n",
      "ISR_6.csv\n",
      "ISR_3.csv\n",
      "ISR_2.csv\n",
      "ISR_8.csv\n",
      "Task_5ms.csv\n",
      "Task_1ms.csv\n",
      "Angle_Sync.csv\n",
      "76002865.0\n"
     ]
    }
   ],
   "source": [
    "import os\n",
    "import sys\n",
    "import numpy as np\n",
    "\n",
    "org_directory = \"./generated_FMTV_data/task_execution_time/\"\n",
    "phased_directory = \"./generated_FMTV_data/task_execution_time_phased/\"\n",
    "\n",
    "max_value_phased = 0\n",
    "for filename in os.listdir(directory):\n",
    "    if filename.endswith(\".csv\"):\n",
    "        print(filename)\n",
    "        # read csv to numpy array\n",
    "        runnable_info = np.genfromtxt(org_directory + filename, delimiter=',')\n",
    "        # sum columns\n",
    "        sum_org = np.sum(runnable_info, axis=0)      \n",
    "        max_value_file = np.max(sum_org)\n",
    "        if max_value_file > max_value_phased:\n",
    "            max_value_phased = max_value_file\n",
    "print(max_value_phased)"
   ]
  },
  {
   "cell_type": "code",
   "execution_count": 7,
   "metadata": {},
   "outputs": [
    {
     "name": "stdout",
     "output_type": "stream",
     "text": [
      "[[1 2 3]\n",
      " [4 5 6]\n",
      " [7 8 9]]\n",
      "[12 15 18]\n"
     ]
    }
   ],
   "source": [
    "import numpy as np\n",
    "org_test = np.array([[1, 2, 3], [4, 5, 6], [7, 8, 9]])\n",
    "print(org_test)\n",
    "\n",
    "sum_org = np.sum(org_test, axis=0)\n",
    "print(sum_org)"
   ]
  }
 ],
 "metadata": {
  "kernelspec": {
   "display_name": "Python 3",
   "language": "python",
   "name": "python3"
  },
  "language_info": {
   "codemirror_mode": {
    "name": "ipython",
    "version": 3
   },
   "file_extension": ".py",
   "mimetype": "text/x-python",
   "name": "python",
   "nbconvert_exporter": "python",
   "pygments_lexer": "ipython3",
   "version": "3.8.10"
  }
 },
 "nbformat": 4,
 "nbformat_minor": 2
}
