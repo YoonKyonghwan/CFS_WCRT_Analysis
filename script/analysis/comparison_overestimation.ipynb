{
 "cells": [
  {
   "cell_type": "code",
   "execution_count": 1,
   "metadata": {},
   "outputs": [
    {
     "name": "stdout",
     "output_type": "stream",
     "text": [
      "    numTasks  utilization   TP  TN  FP  FN  accuracy\n",
      "0        2.0          0.2  100   0   0   0      1.00\n",
      "1        2.0          0.4  100   0   0   0      1.00\n",
      "2        2.0          0.6  100   0   0   0      1.00\n",
      "3        2.0          0.8  100   0   0   0      1.00\n",
      "4        4.0          0.2  100   0   0   0      1.00\n",
      "5        4.0          0.4  100   0   0   0      1.00\n",
      "6        4.0          0.6  100   0   0   0      1.00\n",
      "7        4.0          0.8   98   2   0   0      1.00\n",
      "8        6.0          0.2  100   0   0   0      1.00\n",
      "9        6.0          0.4   96   2   0   2      0.98\n",
      "10       6.0          0.6   83  11   0   6      0.94\n",
      "11       6.0          0.8   83  13   0   4      0.96\n",
      "12       8.0          0.2   98   0   0   2      0.98\n",
      "13       8.0          0.4   81   3   0  16      0.84\n",
      "14       8.0          0.6   76  11   0  13      0.87\n",
      "15       8.0          0.8   64  33   0   3      0.97\n",
      "16      10.0          0.2   90   1   0   9      0.91\n",
      "17      10.0          0.4   59  13   0  28      0.72\n",
      "18      10.0          0.6   52  26   0  22      0.78\n",
      "19      10.0          0.8   42  44   0  14      0.86\n",
      "total accuracy :  0.9404999999999999\n"
     ]
    }
   ],
   "source": [
    "# For overestimation (vs simulation with GA)\n",
    "from functions import *\n",
    "result_dir = \"../../exp_results_proposed_GA\"\n",
    "summary_path = result_dir + \"/result_summary.csv\"\n",
    "\n",
    "output_path = result_dir + \"/overestimation_with_simulator.csv\"\n",
    "\n",
    "GA_num_TP, GA_total_accuracy, GA_results_df = check_correctness_simulator(summary_path)\n",
    "\n",
    "print(GA_results_df)\n",
    "print(\"total accuracy : \", GA_total_accuracy)\n",
    "GA_results_df.to_csv(output_path, index=False)"
   ]
  },
  {
   "cell_type": "code",
   "execution_count": 2,
   "metadata": {},
   "outputs": [
    {
     "name": "stdout",
     "output_type": "stream",
     "text": [
      "    numTasks  utilization   TP  TN  FP  FN  accuracy\n",
      "0        2.0          0.2  100   0   0   0      1.00\n",
      "1        2.0          0.4  100   0   0   0      1.00\n",
      "2        2.0          0.6  100   0   0   0      1.00\n",
      "3        2.0          0.8  100   0   0   0      1.00\n",
      "4        4.0          0.2  100   0   0   0      1.00\n",
      "5        4.0          0.4  100   0   0   0      1.00\n",
      "6        4.0          0.6  100   0   0   0      1.00\n",
      "7        4.0          0.8   98   1   0   1      0.99\n",
      "8        6.0          0.2  100   0   0   0      1.00\n",
      "9        6.0          0.4   96   0   0   4      0.96\n",
      "10       6.0          0.6   83   9   0   8      0.92\n",
      "11       6.0          0.8   83  15   0   2      0.98\n",
      "12       8.0          0.2   98   0   0   2      0.98\n",
      "13       8.0          0.4   81   5   0  14      0.86\n",
      "14       8.0          0.6   76  13   0  11      0.89\n",
      "15       8.0          0.8   64  26   0  10      0.90\n",
      "16      10.0          0.2   90   0   0  10      0.90\n",
      "17      10.0          0.4   59  10   0  31      0.69\n",
      "18      10.0          0.6   52  17   0  31      0.69\n",
      "19      10.0          0.8   42  48   0  10      0.90\n",
      "total accuracy :  0.933\n"
     ]
    }
   ],
   "source": [
    "# For overestimation (vs simulation with GA)\n",
    "\n",
    "import pandas as pd\n",
    "from functions import *\n",
    "\n",
    "result_dir = \"../../exp_results_proposed_GA\"\n",
    "proposed_result_path = result_dir + \"/result_summary.csv\"\n",
    "real_linux_result_path = \"../../real_linux_application/exp_results_CFS/summary.csv\"\n",
    "output_path = result_dir + \"/overestimation_with_real_linux.csv\"\n",
    "\n",
    "real_linux_total_accuracy, real_linux_results_df = check_correntness_real_linux(proposed_result_path, real_linux_result_path)\n",
    "\n",
    "print(real_linux_results_df)\n",
    "print(\"total accuracy : \", real_linux_total_accuracy)\n",
    "real_linux_results_df.to_csv(output_path, index=False)"
   ]
  }
 ],
 "metadata": {
  "kernelspec": {
   "display_name": "venv",
   "language": "python",
   "name": "python3"
  },
  "language_info": {
   "codemirror_mode": {
    "name": "ipython",
    "version": 3
   },
   "file_extension": ".py",
   "mimetype": "text/x-python",
   "name": "python",
   "nbconvert_exporter": "python",
   "pygments_lexer": "ipython3",
   "version": "3.8.10"
  }
 },
 "nbformat": 4,
 "nbformat_minor": 2
}
