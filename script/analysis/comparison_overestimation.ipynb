{
 "cells": [
  {
   "cell_type": "code",
   "execution_count": 2,
   "metadata": {},
   "outputs": [
    {
     "name": "stdout",
     "output_type": "stream",
     "text": [
      "    numTasks  utilization   TP  TN  FP  FN  accuracy\n",
      "2        2.0          0.4  100   0   0   0      1.00\n",
      "4        2.0          0.6  100   0   0   0      1.00\n",
      "3        2.0          0.8  100   0   0   0      1.00\n",
      "1        4.0          0.4  100   0   0   0      1.00\n",
      "5        4.0          0.6   98   0   0   2      0.98\n",
      "0        4.0          0.8   86   1   0  13      0.87\n",
      "6        6.0          0.4  100   0   0   0      1.00\n",
      "8        6.0          0.6   93   0   0   7      0.93\n",
      "9        6.0          0.8   70   7   0  23      0.77\n",
      "12       8.0          0.4  100   0   0   0      1.00\n",
      "11       8.0          0.6   88   1   0  11      0.89\n",
      "13       8.0          0.8   53   9   0  38      0.62\n",
      "14      10.0          0.4   94   0   0   6      0.94\n",
      "10      10.0          0.6   60   2   0  38      0.62\n",
      "7       10.0          0.8   29  27   0  44      0.56\n",
      "num_TP :  1271\n",
      "total accuracy :  0.8786666666666666\n"
     ]
    }
   ],
   "source": [
    "# For overestimation (vs simulation)\n",
    "from functions import *\n",
    "result_dir = \"../../exp_results_proposed_new_overestimation\"\n",
    "\n",
    "summary_path = result_dir + \"/result_summary.csv\"\n",
    "output_path = result_dir + \"/correctness_per_dataset.csv\"\n",
    "\n",
    "check_correntness_simulator(summary_path)\n"
   ]
  },
  {
   "cell_type": "code",
   "execution_count": 1,
   "metadata": {},
   "outputs": [
    {
     "name": "stdout",
     "output_type": "stream",
     "text": [
      "    numTasks  utilization  TP  TN  FP  FN  accuracy\n",
      "12       2.0          0.4  50   0   0   0      1.00\n",
      "8        2.0          0.6  50   0   0   0      1.00\n",
      "6        2.0          0.8  50   0   0   0      1.00\n",
      "1        4.0          0.4  50   0   0   0      1.00\n",
      "4        4.0          0.6  50   0   0   0      1.00\n",
      "0        4.0          0.8  43   0   0   7      0.86\n",
      "5        6.0          0.4  50   0   0   0      1.00\n",
      "7        6.0          0.6  48   0   0   2      0.96\n",
      "13       6.0          0.8  37   0   0  13      0.74\n",
      "10       8.0          0.4  50   0   0   0      1.00\n",
      "11       8.0          0.6  47   0   0   3      0.94\n",
      "3        8.0          0.8  25   3   0  22      0.56\n",
      "14      10.0          0.4  44   0   0   6      0.88\n",
      "9       10.0          0.6  25   1   0  24      0.52\n",
      "2       10.0          0.8  19   0   0  31      0.38\n",
      "num_TP :  638\n",
      "total accuracy :  0.8560000000000001\n"
     ]
    }
   ],
   "source": [
    "import pandas as pd\n",
    "from functions import *\n",
    "\n",
    "\n",
    "proposed_result = pd.read_csv(\"../../exp_results_proposed_nice20_real_linux/result_summary.csv\")\n",
    "real_linux_result = pd.read_csv(\"../../real_linux_application/exp_results_CFS/summary.csv\")\n",
    "\n",
    "check_correntness_real_linux(proposed_result, real_linux_result)"
   ]
  }
 ],
 "metadata": {
  "kernelspec": {
   "display_name": "venv",
   "language": "python",
   "name": "python3"
  },
  "language_info": {
   "codemirror_mode": {
    "name": "ipython",
    "version": 3
   },
   "file_extension": ".py",
   "mimetype": "text/x-python",
   "name": "python",
   "nbconvert_exporter": "python",
   "pygments_lexer": "ipython3",
   "version": "3.8.10"
  }
 },
 "nbformat": 4,
 "nbformat_minor": 2
}
