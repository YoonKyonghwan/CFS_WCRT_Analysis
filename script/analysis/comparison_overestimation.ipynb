{
 "cells": [
  {
   "cell_type": "code",
   "execution_count": 18,
   "metadata": {},
   "outputs": [
    {
     "name": "stdout",
     "output_type": "stream",
     "text": [
      "period_set : 30ms~3sec, Algorithm : GA\n",
      "    numTasks  utilization   TP  TN  FP  FN  accuracy\n",
      "0        2.0          0.2  100   0   0   0      1.00\n",
      "1        2.0          0.4  100   0   0   0      1.00\n",
      "2        2.0          0.6  100   0   0   0      1.00\n",
      "3        2.0          0.8  100   0   0   0      1.00\n",
      "4        4.0          0.2  100   0   0   0      1.00\n",
      "5        4.0          0.4  100   0   0   0      1.00\n",
      "6        4.0          0.6  100   0   0   0      1.00\n",
      "7        4.0          0.8   95   5   0   0      1.00\n",
      "8        6.0          0.2  100   0   0   0      1.00\n",
      "9        6.0          0.4  100   0   0   0      1.00\n",
      "10       6.0          0.6  100   0   0   0      1.00\n",
      "11       6.0          0.8   85  15   0   0      1.00\n",
      "12       8.0          0.2  100   0   0   0      1.00\n",
      "13       8.0          0.4  100   0   0   0      1.00\n",
      "14       8.0          0.6   92   8   0   0      1.00\n",
      "15       8.0          0.8   71  27   0   2      0.98\n",
      "16      10.0          0.2  100   0   0   0      1.00\n",
      "17      10.0          0.4   96   2   0   2      0.98\n",
      "18      10.0          0.6   69  22   0   9      0.91\n",
      "19      10.0          0.8   31  68   0   1      0.99\n",
      "total accuracy :  0.993\n",
      "total schedulable tasksets :  1839\n"
     ]
    }
   ],
   "source": [
    "# For overestimation (vs simulation with GA)\n",
    "from functions import *\n",
    "# result_dir = \"../../exp_results_proposed_GA_303000_random\"\n",
    "result_dir = \"../../exp_results_proposed_time_consumption_GA_303000_2\"\n",
    "summary_path = result_dir + \"/result_summary.csv\"\n",
    "\n",
    "GA_num_TP, GA_total_accuracy, GA_results_df = check_correctness_simulator(summary_path)\n",
    "\n",
    "print(\"period_set : 30ms~3sec, Algorithm : GA\")\n",
    "print(GA_results_df)\n",
    "print(\"total accuracy : \", GA_total_accuracy)\n",
    "print(\"total schedulable tasksets : \", GA_num_TP)"
   ]
  },
  {
   "cell_type": "code",
   "execution_count": null,
   "metadata": {},
   "outputs": [],
   "source": [
    "# For overestimation (vs real_linux with GA)\n",
    "\n",
    "import pandas as pd\n",
    "from functions import *\n",
    "\n",
    "result_dir = \"../../exp_results_proposed_GA\"\n",
    "proposed_result_path = result_dir + \"/result_summary.csv\"\n",
    "real_linux_result_path = \"../../real_linux_application/exp_results_CFS/summary.csv\"\n",
    "output_path = result_dir + \"/overestimation_with_real_linux.csv\"\n",
    "\n",
    "real_linux_total_accuracy, real_linux_results_df = check_correntness_real_linux(proposed_result_path, real_linux_result_path)\n",
    "\n",
    "print(real_linux_results_df)\n",
    "print(\"total accuracy : \", real_linux_total_accuracy)\n",
    "real_linux_results_df.to_csv(output_path, index=False)"
   ]
  }
 ],
 "metadata": {
  "kernelspec": {
   "display_name": "venv",
   "language": "python",
   "name": "python3"
  },
  "language_info": {
   "codemirror_mode": {
    "name": "ipython",
    "version": 3
   },
   "file_extension": ".py",
   "mimetype": "text/x-python",
   "name": "python",
   "nbconvert_exporter": "python",
   "pygments_lexer": "ipython3",
   "version": "3.8.10"
  }
 },
 "nbformat": 4,
 "nbformat_minor": 2
}
