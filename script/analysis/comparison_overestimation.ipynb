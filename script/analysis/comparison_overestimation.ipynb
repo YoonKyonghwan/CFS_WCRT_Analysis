{
 "cells": [
  {
   "cell_type": "code",
   "execution_count": 3,
   "metadata": {},
   "outputs": [
    {
     "name": "stdout",
     "output_type": "stream",
     "text": [
      "    numTasks  utilization   TP   TN  FP  FN  accuracy\n",
      "4        4.0          0.2  100    0   0   0      1.00\n",
      "5        4.0          0.4  100    0   0   0      1.00\n",
      "6        4.0          0.6  100    0   0   0      1.00\n",
      "7        4.0          0.8   95    3   0   2      0.98\n",
      "12       8.0          0.2  100    0   0   0      1.00\n",
      "13       8.0          0.4  100    0   0   0      1.00\n",
      "14       8.0          0.6   91    6   0   3      0.97\n",
      "15       8.0          0.8   70   24   0   6      0.94\n",
      "20      12.0          0.2   98    2   0   0      1.00\n",
      "21      12.0          0.4   67    4   0  29      0.71\n",
      "22      12.0          0.6   33   43   0  24      0.76\n",
      "23      12.0          0.8    9   83   0   8      0.92\n",
      "24      16.0          0.2   62   12   0  26      0.74\n",
      "25      16.0          0.4   12   53   0  35      0.65\n",
      "26      16.0          0.6    6   76   0  18      0.82\n",
      "27      16.0          0.8    1   98   0   1      0.99\n",
      "28      20.0          0.2   24   40   0  36      0.64\n",
      "29      20.0          0.4    1   73   0  26      0.74\n",
      "30      20.0          0.6    0   96   0   4      0.96\n",
      "31      20.0          0.8    0  100   0   0      1.00\n",
      "total accuracy :  0.891\n"
     ]
    }
   ],
   "source": [
    "# For overestimation (vs real_linux with GA)\n",
    "\n",
    "import pandas as pd\n",
    "from functions import *\n",
    "\n",
    "result_dir = \"../../exp_results_proposed_GA_303000_random\"\n",
    "proposed_result_path = result_dir + \"/result_summary.csv\"\n",
    "real_linux_result_path = \"../../real_linux_application/exp_results_CFS/summary.csv\"\n",
    "real_linux_total_accuracy, real_linux_results_df = check_correntness_real_linux(proposed_result_path, real_linux_result_path)\n",
    "\n",
    "real_linux_results_df = real_linux_results_df[real_linux_results_df['numTasks'].isin([4.0, 8.0, 12.0, 16.0, 20.0])]\n",
    "print(real_linux_results_df)\n",
    "total_TP = real_linux_results_df['TP'].sum()\n",
    "total_FP = real_linux_results_df['FP'].sum()\n",
    "total_TN = real_linux_results_df['TN'].sum()\n",
    "total_FN = real_linux_results_df['FN'].sum()\n",
    "total_accuracy = (total_TP + total_TN) / (total_TP + total_FP + total_TN + total_FN)\n",
    "print(\"total accuracy : \", total_accuracy)\n",
    "\n",
    "real_linux_results_df.to_csv(\"overestimation_real_linux.csv\", index=False)"
   ]
  },
  {
   "cell_type": "code",
   "execution_count": 4,
   "metadata": {},
   "outputs": [
    {
     "name": "stdout",
     "output_type": "stream",
     "text": [
      "period_set : 30ms~3sec, Algorithm : GA\n",
      "    numTasks  utilization   TP   TN  FP  FN  accuracy\n",
      "4        4.0          0.2  100    0   0   0      1.00\n",
      "5        4.0          0.4  100    0   0   0      1.00\n",
      "6        4.0          0.6  100    0   0   0      1.00\n",
      "7        4.0          0.8   95    5   0   0      1.00\n",
      "12       8.0          0.2  100    0   0   0      1.00\n",
      "13       8.0          0.4  100    0   0   0      1.00\n",
      "14       8.0          0.6   91    9   0   0      1.00\n",
      "15       8.0          0.8   70   30   0   0      1.00\n",
      "20      12.0          0.2   98    2   0   0      1.00\n",
      "21      12.0          0.4   67   27   0   6      0.94\n",
      "22      12.0          0.6   33   64   0   3      0.97\n",
      "23      12.0          0.8    9   88   0   3      0.97\n",
      "24      16.0          0.2   62   35   0   3      0.97\n",
      "25      16.0          0.4   12   82   0   6      0.94\n",
      "26      16.0          0.6    6   92   0   2      0.98\n",
      "27      16.0          0.8    1   99   0   0      1.00\n",
      "28      20.0          0.2   24   68   0   8      0.92\n",
      "29      20.0          0.4    1   97   0   2      0.98\n",
      "30      20.0          0.6    0   98   0   2      0.98\n",
      "31      20.0          0.8    0  100   0   0      1.00\n",
      "total accuracy :  0.9825\n"
     ]
    }
   ],
   "source": [
    "# For overestimation (vs simulation with GA)\n",
    "from functions import *\n",
    "result_dir = \"../../exp_results_proposed_GA_303000_random\"\n",
    "summary_path = result_dir + \"/result_summary.csv\"\n",
    "\n",
    "GA_num_TP, GA_total_accuracy, GA_results_df = check_correctness_simulator(summary_path)\n",
    "\n",
    "GA_results_df = GA_results_df[GA_results_df['numTasks'].isin([4.0, 8.0, 12.0, 16.0, 20.0])]\n",
    "\n",
    "print(\"period_set : 30ms~3sec, Algorithm : GA\")\n",
    "print(GA_results_df)\n",
    "total_TP = GA_results_df['TP'].sum()\n",
    "total_FP = GA_results_df['FP'].sum()\n",
    "total_TN = GA_results_df['TN'].sum()\n",
    "total_FN = GA_results_df['FN'].sum()\n",
    "GA_total_accuracy = (total_TP + total_TN) / (total_TP + total_FP + total_TN + total_FN)\n",
    "print(\"total accuracy : \", GA_total_accuracy)\n",
    "\n",
    "GA_results_df.to_csv(\"overestimation_simulator.csv\", index=False)"
   ]
  }
 ],
 "metadata": {
  "kernelspec": {
   "display_name": "Python 3",
   "language": "python",
   "name": "python3"
  },
  "language_info": {
   "codemirror_mode": {
    "name": "ipython",
    "version": 3
   },
   "file_extension": ".py",
   "mimetype": "text/x-python",
   "name": "python",
   "nbconvert_exporter": "python",
   "pygments_lexer": "ipython3",
   "version": "3.8.10"
  }
 },
 "nbformat": 4,
 "nbformat_minor": 2
}
