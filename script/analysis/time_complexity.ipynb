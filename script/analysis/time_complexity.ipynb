{
 "cells": [
  {
   "cell_type": "code",
   "execution_count": 1,
   "metadata": {},
   "outputs": [],
   "source": [
    "import pandas as pd\n",
    "import matplotlib.pyplot as plt\n",
    "\n",
    "# Read the CSV file into a DataFrame\n",
    "summary_result_path = \"../../exp_results/result_summary.csv\"\n",
    "df = pd.read_csv(summary_result_path, sep=\",\")\n",
    "\n",
    "# Group the data by 'numTasks' and 'utilization' and calculate the average values\n",
    "grouped_data = df.groupby(['numTasks', 'utilization'])[['simulator_timeConsumption(us)', 'proposed_timeConsumption(us)']].mean().reset_index()\n",
    "\n",
    "# Calculate the gap between 'simulator_timeConsumption' and 'proposed_timeConsumption'\n",
    "grouped_data['timeConsumptionGap'] = grouped_data['simulator_timeConsumption(us)'] - grouped_data['proposed_timeConsumption(us)']\n",
    "\n",
    "# Create a pivot table to make it easier to plot\n",
    "pivot_proposed = grouped_data.pivot(index='numTasks', columns='utilization', values='proposed_timeConsumption(us)')\n",
    "pivot_simulator = grouped_data.pivot(index='numTasks', columns='utilization', values='simulator_timeConsumption(us)')\n",
    "pivot_gap = grouped_data.pivot(index='numTasks', columns='utilization', values='timeConsumptionGap')\n"
   ]
  },
  {
   "cell_type": "code",
   "execution_count": 2,
   "metadata": {},
   "outputs": [
    {
     "name": "stdout",
     "output_type": "stream",
     "text": [
      "    numTasks  utilization  proposed_timeConsumption(us)   \n",
      "0          3          0.3                        396.30  \\\n",
      "1          3          0.4                        397.53   \n",
      "2          3          0.5                        390.20   \n",
      "3          3          0.6                        392.07   \n",
      "4          3          0.7                        393.27   \n",
      "5          3          0.8                        401.57   \n",
      "6          3          0.9                        431.60   \n",
      "7          6          0.3                        464.27   \n",
      "8          6          0.4                        476.10   \n",
      "9          6          0.5                        472.97   \n",
      "10         6          0.6                        493.23   \n",
      "11         6          0.7                        479.63   \n",
      "12         6          0.8                        475.83   \n",
      "13         6          0.9                        517.00   \n",
      "14         9          0.3                        615.30   \n",
      "15         9          0.4                        635.57   \n",
      "16         9          0.5                        672.60   \n",
      "17         9          0.6                        670.50   \n",
      "18         9          0.7                        713.50   \n",
      "19         9          0.8                        701.47   \n",
      "20         9          0.9                        775.87   \n",
      "21        12          0.3                        902.50   \n",
      "22        12          0.4                        926.20   \n",
      "23        12          0.5                       1005.63   \n",
      "24        12          0.6                       1066.63   \n",
      "25        12          0.7                       1049.13   \n",
      "26        12          0.8                       1148.03   \n",
      "27        12          0.9                       1086.50   \n",
      "28        15          0.3                       1293.17   \n",
      "29        15          0.4                       1340.93   \n",
      "30        15          0.5                       1307.27   \n",
      "31        15          0.6                       1364.93   \n",
      "32        15          0.7                       1373.20   \n",
      "33        15          0.8                       1452.03   \n",
      "34        15          0.9                       1477.77   \n",
      "\n",
      "    simulator_timeConsumption(us)  timeConsumptionGap  \n",
      "0                             0.0             -396.30  \n",
      "1                             0.0             -397.53  \n",
      "2                             0.0             -390.20  \n",
      "3                             0.0             -392.07  \n",
      "4                             0.0             -393.27  \n",
      "5                             0.0             -401.57  \n",
      "6                             0.0             -431.60  \n",
      "7                             0.0             -464.27  \n",
      "8                             0.0             -476.10  \n",
      "9                             0.0             -472.97  \n",
      "10                            0.0             -493.23  \n",
      "11                            0.0             -479.63  \n",
      "12                            0.0             -475.83  \n",
      "13                            0.0             -517.00  \n",
      "14                            0.0             -615.30  \n",
      "15                            0.0             -635.57  \n",
      "16                            0.0             -672.60  \n",
      "17                            0.0             -670.50  \n",
      "18                            0.0             -713.50  \n",
      "19                            0.0             -701.47  \n",
      "20                            0.0             -775.87  \n",
      "21                            0.0             -902.50  \n",
      "22                            0.0             -926.20  \n",
      "23                            0.0            -1005.63  \n",
      "24                            0.0            -1066.63  \n",
      "25                            0.0            -1049.13  \n",
      "26                            0.0            -1148.03  \n",
      "27                            0.0            -1086.50  \n",
      "28                            0.0            -1293.17  \n",
      "29                            0.0            -1340.93  \n",
      "30                            0.0            -1307.27  \n",
      "31                            0.0            -1364.93  \n",
      "32                            0.0            -1373.20  \n",
      "33                            0.0            -1452.03  \n",
      "34                            0.0            -1477.77  \n"
     ]
    }
   ],
   "source": [
    "# Create a table that contains the average time consumption of the proposed method and the simulator\n",
    "table = pd.DataFrame(columns=['numTasks', 'utilization', 'proposed_timeConsumption(us)', 'simulator_timeConsumption(us)', 'timeConsumptionGap'])\n",
    "table['numTasks'] = grouped_data['numTasks']\n",
    "table['utilization'] = grouped_data['utilization']\n",
    "table['proposed_timeConsumption(us)'] = grouped_data['proposed_timeConsumption(us)']\n",
    "table['simulator_timeConsumption(us)'] = grouped_data['simulator_timeConsumption(us)']\n",
    "table['timeConsumptionGap'] = grouped_data['timeConsumptionGap']\n",
    "table = table.round(2)\n",
    "\n",
    "print(table)\n",
    "# table.to_csv('../../exp_results/time_consumption_summary.csv', index=False)"
   ]
  },
  {
   "cell_type": "code",
   "execution_count": 3,
   "metadata": {},
   "outputs": [],
   "source": [
    "# a heatmap to show a gap between simulator and proposed\n",
    "def plot_heatmap(pivot, title, label):\n",
    "    plt.figure(figsize=(6, 3))\n",
    "    plt.imshow(pivot, cmap='coolwarm', aspect='auto', interpolation='nearest')\n",
    "    plt.title(title)\n",
    "    plt.colorbar(label=label)\n",
    "    plt.xlabel('Utilization')\n",
    "    plt.ylabel('Number of Tasks')\n",
    "    plt.xticks(range(len(pivot.columns)), pivot.columns, rotation=45)\n",
    "    plt.yticks(range(len(pivot.index)), pivot.index)\n",
    "    plt.tight_layout()\n",
    "    plt.show()"
   ]
  },
  {
   "cell_type": "code",
   "execution_count": 4,
   "metadata": {},
   "outputs": [
    {
     "data": {
      "image/png": "[encoded data removed]",
      "text/plain": [
       "<Figure size 432x216 with 2 Axes>"
      ]
     },
     "metadata": {
      "needs_background": "light"
     },
     "output_type": "display_data"
    }
   ],
   "source": [
    "title = \"Time Consumption of the Proposed (us)\"\n",
    "label = 'Time Consumption (us)'\n",
    "plot_heatmap(pivot_proposed, title, label)"
   ]
  },
  {
   "cell_type": "code",
   "execution_count": 5,
   "metadata": {},
   "outputs": [
    {
     "data": {
      "image/png": "[encoded data removed]",
      "text/plain": [
       "<Figure size 864x432 with 1 Axes>"
      ]
     },
     "metadata": {
      "needs_background": "light"
     },
     "output_type": "display_data"
    }
   ],
   "source": [
    "import numpy as np\n",
    "\n",
    "# Create a list of unique combinations of 'numTasks' and 'utilization'\n",
    "combinations = grouped_data[['numTasks', 'utilization']].values\n",
    "\n",
    "# Create an array to represent x-axis positions for bars\n",
    "x = np.arange(len(combinations))\n",
    "\n",
    "# Width of each bar\n",
    "bar_width = 0.35\n",
    "\n",
    "# Create a bar chart to visualize 'simulator_timeConsumption' and 'proposed_timeConsumption' with separate bars\n",
    "fig, ax = plt.subplots(figsize=(12, 6))\n",
    "\n",
    "for i, (num_tasks, utilization) in enumerate(combinations):\n",
    "    group = grouped_data[(grouped_data['numTasks'] == num_tasks) & (grouped_data['utilization'] == utilization)]\n",
    "    ax.bar(x[i] - bar_width/2, group['simulator_timeConsumption(us)'], bar_width, label=f'Simulator {num_tasks} / {utilization}', color='red')\n",
    "    ax.bar(x[i] + bar_width/2, group['proposed_timeConsumption(us)'], bar_width, label=f'Proposed {num_tasks} / {utilization}', color='blue')\n",
    "\n",
    "ax.set_xlabel('numTasks and Utilization')\n",
    "ax.set_ylabel('Time Consumption (us)')\n",
    "ax.set_title('Simulator vs. Proposed Time Consumption')\n",
    "ax.set_xticks(x)\n",
    "ax.set_xticklabels([str(int(num_tasks)) + \"/\" + str(utilization) for num_tasks, utilization in combinations], rotation=45)\n",
    "plt.tight_layout()\n",
    "plt.show()"
   ]
  }
 ],
 "metadata": {
  "kernelspec": {
   "display_name": "venv",
   "language": "python",
   "name": "python3"
  },
  "language_info": {
   "codemirror_mode": {
    "name": "ipython",
    "version": 3
   },
   "file_extension": ".py",
   "mimetype": "text/x-python",
   "name": "python",
   "nbconvert_exporter": "python",
   "pygments_lexer": "ipython3",
   "version": "3.8.10"
  }
 },
 "nbformat": 4,
 "nbformat_minor": 2
}
