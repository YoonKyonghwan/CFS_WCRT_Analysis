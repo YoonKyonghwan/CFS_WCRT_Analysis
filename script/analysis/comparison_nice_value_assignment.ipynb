{
 "cells": [
  {
   "cell_type": "code",
   "execution_count": 67,
   "metadata": {},
   "outputs": [
    {
     "name": "stdout",
     "output_type": "stream",
     "text": [
      "    numTasks  utilization  baseline  heuristic   GA\n",
      "0        2.0          0.2       100        100  100\n",
      "1        2.0          0.4        94        100  100\n",
      "2        2.0          0.6        83        100  100\n",
      "3        2.0          0.8        64        100  100\n",
      "4        4.0          0.2        90        100  100\n",
      "5        4.0          0.4        60        100  100\n",
      "6        4.0          0.6        34         97  100\n",
      "7        4.0          0.8        16         86   95\n",
      "8        6.0          0.2        57        100  100\n",
      "9        6.0          0.4        21         99  100\n",
      "10       6.0          0.6         6         90  100\n",
      "11       6.0          0.8         4         70   85\n",
      "12       8.0          0.2        36        100  100\n",
      "13       8.0          0.4         5         89  100\n",
      "14       8.0          0.6         2         69   92\n",
      "15       8.0          0.8         0         35   71\n",
      "16      10.0          0.2        13         98  100\n",
      "17      10.0          0.4         1         67   96\n",
      "18      10.0          0.6         0         29   69\n",
      "19      10.0          0.8         0         11   31\n",
      "total_TP_baseline:  686 ( 0.343 )\n",
      "total_TP_heuristic:  1640 ( 0.82 )\n",
      "total_TP_GA:  1839 ( 0.9195 )\n"
     ]
    }
   ],
   "source": [
    "from functions import *\n",
    "result_dir = \"../../exp_results_proposed_fix_lambda_303000_random/lambda0.0\"\n",
    "baseline_num_TP, _, baseline_results_df = check_correctness_simulator(result_dir + \"/result_summary.csv\")\n",
    "baseline_results_df = baseline_results_df[['numTasks', 'utilization', 'TP']]\n",
    "baseline_results_df = baseline_results_df.rename(columns={'TP': 'baseline'})\n",
    "result_dir = \"../../exp_results_proposed_heuristic_303000_random\"\n",
    "heuristic_num_TP, _, heuristic_results_df = check_correctness_simulator(result_dir + \"/result_summary.csv\")\n",
    "heuristic_results_df = heuristic_results_df[['numTasks', 'utilization', 'TP']]\n",
    "heuristic_results_df = heuristic_results_df.rename(columns={'TP': 'heuristic'})\n",
    "result_dir = \"../../exp_results_proposed_GA_303000_random\"\n",
    "GA_num_TP, _, GA_results_df = check_correctness_simulator(result_dir + \"/result_summary.csv\")\n",
    "GA_results_df = GA_results_df[['numTasks', 'utilization', 'TP']]\n",
    "GA_results_df = GA_results_df.rename(columns={'TP': 'GA'})\n",
    "\n",
    "import pandas as pd\n",
    "merged = pd.merge(baseline_results_df, heuristic_results_df, on=['numTasks', 'utilization'])\n",
    "merged = pd.merge(merged, GA_results_df, on=['numTasks', 'utilization'])\n",
    "\n",
    "# save to csv\n",
    "merged.to_csv('nice_value_assignment.csv', index=False)\n",
    "print(merged)\n",
    "\n",
    "total_num_tasksets = 2000\n",
    "print(\"total_TP_baseline: \", sum(merged['baseline']), \"(\", sum(merged['baseline'])/total_num_tasksets, \")\")\n",
    "print(\"total_TP_heuristic: \", sum(merged['heuristic']), \"(\", sum(merged['heuristic'])/total_num_tasksets, \")\")\n",
    "print(\"total_TP_GA: \", sum(merged['GA']), \"(\", sum(merged['GA'])/total_num_tasksets, \")\")"
   ]
  },
  {
   "cell_type": "code",
   "execution_count": 68,
   "metadata": {},
   "outputs": [],
   "source": [
    "import matplotlib.pyplot as plt\n",
    "\n",
    "GA_summary_result_path = \"../../exp_results_proposed_time_consumption_GA_303000/result_summary.csv\"\n",
    "GA_df = pd.read_csv(GA_summary_result_path, sep=\",\")\n",
    "GA_df = GA_df[GA_df['proposed_schedulability'] == True]\n",
    "GA_df = GA_df[['numTasks', 'utilization', 'proposed_timeConsumption(us)']]\n",
    "GA_df = GA_df.rename(columns={'proposed_timeConsumption(us)': 'Genetic Algorithm'})\n",
    "\n",
    "heuristic_summary_result_path = \"../../exp_results_proposed_time_consumption_heuristic_303000/result_summary.csv\"\n",
    "heuristic_df = pd.read_csv(heuristic_summary_result_path, sep=\",\")\n",
    "heuristic_df = heuristic_df[heuristic_df['proposed_schedulability'] == True]\n",
    "heuristic_df = heuristic_df[['numTasks', 'utilization', 'proposed_timeConsumption(us)']]\n",
    "heuristic_df = heuristic_df.rename(columns={'proposed_timeConsumption(us)': 'Heuristic'})\n",
    "\n",
    "merged_df = pd.merge(GA_df, heuristic_df, on=['numTasks', 'utilization'])\n",
    "\n",
    "merged_time_data = merged_df.groupby(['numTasks', 'utilization']).mean()\n",
    "\n",
    "# unit change (us -> ms)\n",
    "merged_time_data['Genetic Algorithm'] = merged_time_data['Genetic Algorithm'] / 1000\n",
    "merged_time_data['Heuristic'] = merged_time_data['Heuristic'] / 1000\n",
    "\n",
    "x = range(len(merged_time_data))\n",
    "fontsize = 18\n",
    "xtick_rotation = 35"
   ]
  },
  {
   "cell_type": "code",
   "execution_count": 69,
   "metadata": {},
   "outputs": [],
   "source": [
    "y = merged_time_data['Genetic Algorithm']\n",
    "\n",
    "plt.figure(figsize=(12, 8))\n",
    "plt.bar(x, y)\n",
    "# x_labels = [f\"nT: {numTasks}, U: {utilization}\" for numTasks, utilization in merged_time_data.index]\n",
    "x_labels = [f\"({numTasks}; {utilization})\" for numTasks, utilization in merged_time_data.index]\n",
    "plt.xticks(x, x_labels, rotation=xtick_rotation, fontsize=fontsize)\n",
    "plt.yticks(fontsize=fontsize)\n",
    "plt.xlabel('Number of Tasks and Utilization', fontsize=fontsize+3)\n",
    "plt.ylabel('Average Time Consumption (ms)' ,fontsize=fontsize+3)\n",
    "plt.tight_layout()\n",
    "# plt.show()\n",
    "\n",
    "#save to pdf\n",
    "filename = 'GA_time_consumption.pdf'\n",
    "if os.path.exists(filename):\n",
    "    os.remove(filename)\n",
    "plt.savefig(filename)\n",
    "plt.close()"
   ]
  },
  {
   "cell_type": "code",
   "execution_count": 70,
   "metadata": {},
   "outputs": [],
   "source": [
    "y = merged_time_data['Heuristic']\n",
    "\n",
    "plt.figure(figsize=(12, 8))\n",
    "plt.bar(x, y)\n",
    "# x_labels = [f\"nT: {numTasks}, U: {utilization}\" for numTasks, utilization in merged_time_data.index]\n",
    "x_labels = [f\"({numTasks}; {utilization})\" for numTasks, utilization in merged_time_data.index]\n",
    "plt.xticks(x, x_labels, rotation=xtick_rotation, fontsize=fontsize)\n",
    "plt.yticks(fontsize=fontsize)\n",
    "plt.xlabel('Number of Tasks and Utilization', fontsize=fontsize+3)\n",
    "plt.ylabel('Average Time Consumption (ms)' ,fontsize=fontsize+3)\n",
    "plt.tight_layout()\n",
    "# plt.show()\n",
    "\n",
    "#save to pdf\n",
    "filename = 'heuristic_time_consumption.pdf'\n",
    "if os.path.exists(filename):\n",
    "    os.remove(filename)\n",
    "plt.savefig(filename)\n",
    "plt.close()"
   ]
  },
  {
   "cell_type": "code",
   "execution_count": 71,
   "metadata": {},
   "outputs": [
    {
     "name": "stdout",
     "output_type": "stream",
     "text": [
      "Heuristic time consumption: min:  1085 , max:  6778\n",
      "GA time consumption: min:  7585 , max:  2790363\n"
     ]
    }
   ],
   "source": [
    "print(\"Heuristic time consumption: min: \", heuristic_df['Heuristic'].min(), \", max: \", heuristic_df['Heuristic'].max())\n",
    "print(\"GA time consumption: min: \", GA_df['Genetic Algorithm'].min(), \", max: \", GA_df['Genetic Algorithm'].max())\n"
   ]
  }
 ],
 "metadata": {
  "kernelspec": {
   "display_name": "venv",
   "language": "python",
   "name": "python3"
  },
  "language_info": {
   "codemirror_mode": {
    "name": "ipython",
    "version": 3
   },
   "file_extension": ".py",
   "mimetype": "text/x-python",
   "name": "python",
   "nbconvert_exporter": "python",
   "pygments_lexer": "ipython3",
   "version": "3.8.10"
  }
 },
 "nbformat": 4,
 "nbformat_minor": 2
}
