{
 "cells": [
  {
   "cell_type": "code",
   "execution_count": 1,
   "metadata": {},
   "outputs": [
    {
     "name": "stdout",
     "output_type": "stream",
     "text": [
      "    numTasks  utilization   TP  TN  FP  FN  accuracy\n",
      "7        2.0          0.4  100   0   0   0      1.00\n",
      "5        2.0          0.6  100   0   0   0      1.00\n",
      "3        2.0          0.8  100   0   0   0      1.00\n",
      "8        4.0          0.4  100   0   0   0      1.00\n",
      "12       4.0          0.6   98   0   0   2      0.98\n",
      "1        4.0          0.8   90   0   0  10      0.90\n",
      "2        6.0          0.4  100   0   0   0      1.00\n",
      "4        6.0          0.6   95   0   0   5      0.95\n",
      "13       6.0          0.8   89   0   0  11      0.89\n",
      "10       8.0          0.4  100   0   0   0      1.00\n",
      "14       8.0          0.6   94   0   0   6      0.94\n",
      "9        8.0          0.8   73   0   0  27      0.73\n",
      "0       10.0          0.4   98   0   0   2      0.98\n",
      "6       10.0          0.6   75   0   0  25      0.75\n",
      "11      10.0          0.8   47   0   0  53      0.47\n",
      "num_TP :  1359\n",
      "total accuracy :  0.9060000000000001\n"
     ]
    }
   ],
   "source": [
    "# For nice value assignment algorithm (proposed algorithm)\n",
    "from functions import *\n",
    "result_dir = \"../../exp_results_proposed_new_nice_assignment\"\n",
    "    \n",
    "summary_path = result_dir + \"/result_summary.csv\"\n",
    "output_path = result_dir + \"/correctness_per_dataset.csv\"\n",
    "\n",
    "check_correntness(summary_path, output_path)\n"
   ]
  },
  {
   "cell_type": "code",
   "execution_count": 2,
   "metadata": {},
   "outputs": [
    {
     "name": "stdout",
     "output_type": "stream",
     "text": [
      "    numTasks  utilization   TP  TN  FP  FN  accuracy\n",
      "7        2.0          0.4  100   0   0   0      1.00\n",
      "3        2.0          0.6  100   0   0   0      1.00\n",
      "14       2.0          0.8  100   0   0   0      1.00\n",
      "6        4.0          0.4  100   0   0   0      1.00\n",
      "0        4.0          0.6   98   0   0   2      0.98\n",
      "10       4.0          0.8   86   0   0  14      0.86\n",
      "9        6.0          0.4  100   0   0   0      1.00\n",
      "8        6.0          0.6   93   0   0   7      0.93\n",
      "13       6.0          0.8   70   0   0  30      0.70\n",
      "5        8.0          0.4  100   0   0   0      1.00\n",
      "1        8.0          0.6   88   0   0  12      0.88\n",
      "2        8.0          0.8   53   0   0  47      0.53\n",
      "4       10.0          0.4   94   0   0   6      0.94\n",
      "12      10.0          0.6   60   0   0  40      0.60\n",
      "11      10.0          0.8   29   0   0  71      0.29\n",
      "num_TP :  1271\n",
      "total accuracy :  0.8473333333333332\n"
     ]
    }
   ],
   "source": [
    "# For nice value assignment algorithm (fixed nice value : 20)\n",
    "from functions import *\n",
    "result_dir = \"../../exp_results_proposed_nice20\"\n",
    "    \n",
    "summary_path = result_dir + \"/result_summary.csv\"\n",
    "output_path = result_dir + \"/correctness_per_dataset.csv\"\n",
    "\n",
    "check_correntness(summary_path, output_path)\n"
   ]
  },
  {
   "cell_type": "code",
   "execution_count": 3,
   "metadata": {},
   "outputs": [
    {
     "name": "stdout",
     "output_type": "stream",
     "text": [
      "    numTasks  utilization  TP  TN  FP   FN  accuracy\n",
      "0        2.0          0.4  87   0   0   13      0.87\n",
      "8        2.0          0.6  80   0   0   20      0.80\n",
      "4        2.0          0.8  56   0   0   44      0.56\n",
      "5        4.0          0.4  41   0   0   59      0.41\n",
      "6        4.0          0.6  26   0   0   74      0.26\n",
      "9        4.0          0.8  12   0   0   88      0.12\n",
      "2        6.0          0.4  19   0   0   81      0.19\n",
      "10       6.0          0.6   7   0   0   93      0.07\n",
      "3        6.0          0.8   2   0   0   98      0.02\n",
      "7        8.0          0.4   7   0   0   93      0.07\n",
      "11       8.0          0.6   3   0   0   97      0.03\n",
      "14       8.0          0.8   0   0   0  100      0.00\n",
      "12      10.0          0.4   2   0   0   98      0.02\n",
      "1       10.0          0.6   0   0   0  100      0.00\n",
      "13      10.0          0.8   0   0   0  100      0.00\n",
      "num_TP :  342\n",
      "total accuracy :  0.22799999999999995\n"
     ]
    }
   ],
   "source": [
    "# For nice value assignment algorithm (fixed nice value : 0)\n",
    "from functions import *\n",
    "result_dir = \"../../exp_results_proposed_nice0\"\n",
    "    \n",
    "summary_path = result_dir + \"/result_summary.csv\"\n",
    "output_path = result_dir + \"/correctness_per_dataset.csv\"\n",
    "\n",
    "check_correntness(summary_path, output_path)\n"
   ]
  }
 ],
 "metadata": {
  "kernelspec": {
   "display_name": "venv",
   "language": "python",
   "name": "python3"
  },
  "language_info": {
   "codemirror_mode": {
    "name": "ipython",
    "version": 3
   },
   "file_extension": ".py",
   "mimetype": "text/x-python",
   "name": "python",
   "nbconvert_exporter": "python",
   "pygments_lexer": "ipython3",
   "version": "3.8.10"
  }
 },
 "nbformat": 4,
 "nbformat_minor": 2
}
