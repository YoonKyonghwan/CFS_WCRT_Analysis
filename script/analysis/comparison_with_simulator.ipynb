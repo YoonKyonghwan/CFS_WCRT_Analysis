{
 "cells": [
  {
   "cell_type": "code",
   "execution_count": 1,
   "metadata": {},
   "outputs": [
    {
     "name": "stdout",
     "output_type": "stream",
     "text": [
      "    numTasks  utilization  TP  TN  FP  FN  accuracy\n",
      "0        3.0          0.4  30   0   0   0  1.000000\n",
      "1        3.0          0.6  30   0   0   0  1.000000\n",
      "2        3.0          0.8  30   0   0   0  1.000000\n",
      "3        6.0          0.4  30   0   0   0  1.000000\n",
      "4        6.0          0.6  28   0   0   2  0.933333\n",
      "5        6.0          0.8  28   2   0   0  1.000000\n",
      "6        9.0          0.4  30   0   0   0  1.000000\n",
      "7        9.0          0.6  28   1   0   1  0.966667\n",
      "8        9.0          0.8  20   8   0   2  0.933333\n",
      "9       12.0          0.4  26   4   0   0  1.000000\n",
      "10      12.0          0.6  15  15   0   0  1.000000\n",
      "11      12.0          0.8   6  22   0   2  0.933333\n",
      "num_TP :  301\n",
      "total accuracy :  0.9805555555555556\n"
     ]
    }
   ],
   "source": [
    "# For Table3 in the paper\n",
    "\n",
    "# compare with the simulator\n",
    "from functions import *\n",
    "result_dir = \"../../exp_results_proposed_and_simulator\"\n",
    "    \n",
    "summary_path = result_dir + \"/result_summary.csv\"\n",
    "output_path = result_dir + \"/correctness_per_dataset.csv\"\n",
    "\n",
    "check_correntness(summary_path, output_path)"
   ]
  }
 ],
 "metadata": {
  "kernelspec": {
   "display_name": "venv",
   "language": "python",
   "name": "python3"
  },
  "language_info": {
   "codemirror_mode": {
    "name": "ipython",
    "version": 3
   },
   "file_extension": ".py",
   "mimetype": "text/x-python",
   "name": "python",
   "nbconvert_exporter": "python",
   "pygments_lexer": "ipython3",
   "version": "3.8.10"
  }
 },
 "nbformat": 4,
 "nbformat_minor": 2
}
