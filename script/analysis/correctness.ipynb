{
 "cells": [
  {
   "cell_type": "code",
   "execution_count": 1,
   "metadata": {},
   "outputs": [],
   "source": [
    "from functions import check_correntness, combine_detail_result, print_wrong_result"
   ]
  },
  {
   "cell_type": "code",
   "execution_count": 2,
   "metadata": {},
   "outputs": [],
   "source": [
    "# Read the CSV file into a DataFrame\n",
    "result_dir = \"../../exp_results\""
   ]
  },
  {
   "cell_type": "code",
   "execution_count": 3,
   "metadata": {},
   "outputs": [
    {
     "name": "stdout",
     "output_type": "stream",
     "text": [
      "    numTasks  utilization  TP  TN  FP  FN  accuracy\n",
      "0        3.0          0.2  48   0   0   2      0.96\n",
      "1        3.0          0.4  44   5   0   1      0.98\n",
      "2        3.0          0.6  39   9   0   2      0.96\n",
      "3        3.0          0.8  29  21   0   0      1.00\n",
      "4        6.0          0.2  39   2   0   9      0.82\n",
      "5        6.0          0.4  35  10   0   5      0.90\n",
      "6        6.0          0.6  25  19   0   6      0.88\n",
      "7        6.0          0.8  14  29   0   7      0.86\n",
      "8        9.0          0.2  29   8   0  13      0.74\n",
      "9        9.0          0.4  25  13   0  12      0.76\n",
      "10       9.0          0.6  14  32   0   4      0.92\n",
      "11       9.0          0.8   5  38   0   7      0.86\n",
      "12      12.0          0.2  22   8   0  20      0.60\n",
      "13      12.0          0.4  18  13   0  19      0.62\n",
      "14      12.0          0.6   5  37   0   8      0.84\n",
      "15      12.0          0.8   2  42   0   6      0.88\n",
      "16      15.0          0.2  19  16   0  15      0.70\n",
      "17      15.0          0.4  13  20   0  17      0.66\n",
      "18      15.0          0.6   4  35   0  11      0.78\n",
      "19      15.0          0.8   0  49   0   1      0.98\n"
     ]
    }
   ],
   "source": [
    "input_path = result_dir + \"/result_summary.csv\"\n",
    "output_path = result_dir + \"/correctness_per_dataset.csv\"\n",
    "\n",
    "check_correntness(input_path, output_path)"
   ]
  },
  {
   "cell_type": "code",
   "execution_count": 4,
   "metadata": {},
   "outputs": [
    {
     "name": "stdout",
     "output_type": "stream",
     "text": [
      "    numTasks  utilization   TP   TN  FP  FN  accuracy\n",
      "0        3.0          0.2  148    0   0   2  0.986667\n",
      "1        3.0          0.4  144    5   0   1  0.993333\n",
      "2        3.0          0.6  138    9   0   3  0.980000\n",
      "3        3.0          0.8  127   23   0   0  1.000000\n",
      "4        6.0          0.2  288    4   0   8  0.973333\n",
      "5        6.0          0.4  284   11   0   5  0.983333\n",
      "6        6.0          0.6  270   24   0   6  0.980000\n",
      "7        6.0          0.8  240   46   1  13  0.953333\n",
      "8        9.0          0.2  425    9   0  16  0.964444\n",
      "9        9.0          0.4  414   21   0  15  0.966667\n",
      "10       9.0          0.6  393   41   0  16  0.964444\n",
      "11       9.0          0.8  349   71   0  30  0.933333\n",
      "12      12.0          0.2  555   14   0  31  0.948333\n",
      "13      12.0          0.4  553   17   0  30  0.950000\n",
      "14      12.0          0.6  498   67   0  35  0.941667\n",
      "15      12.0          0.8  475   83   2  40  0.930000\n",
      "16      15.0          0.2  705   22   0  23  0.969333\n",
      "17      15.0          0.4  691   24   0  35  0.953333\n",
      "18      15.0          0.6  643   70   0  37  0.950667\n",
      "19      15.0          0.8  566  124   2  58  0.920000\n"
     ]
    }
   ],
   "source": [
    "numCores = [1]\n",
    "numTasks = [3, 6, 9, 12, 15]\n",
    "utilizations = [0.2, 0.4, 0.6, 0.8]\n",
    "detail_result_dir = result_dir + \"/detail_result\"\n",
    "combine_detail_result_path = detail_result_dir + \"/combined_detail_result.csv\"\n",
    "combine_detail_result(detail_result_dir, numCores, numTasks, utilizations, combine_detail_result_path)\n",
    "\n",
    "\n",
    "input_path = combine_detail_result_path\n",
    "output_path = result_dir + \"/correctness_per_task.csv\"\n",
    "\n",
    "check_correntness(input_path, output_path)"
   ]
  },
  {
   "cell_type": "code",
   "execution_count": 5,
   "metadata": {},
   "outputs": [
    {
     "name": "stdout",
     "output_type": "stream",
     "text": [
      "      numTasks  utilization  dataset_index   name  WCRT(sim)  WCRT(prop)\n",
      "223          3          0.4             29  task2      98332       88589\n",
      "310          3          0.6             37  task2     297065      295581\n",
      "330          3          0.6             24  task1     345640      343285\n",
      "451          3          0.8             19  task2     593382      555981\n",
      "482          3          0.8              3  task3     368365      363239\n",
      "...        ...          ...            ...    ...        ...         ...\n",
      "8942        15          0.8             11  task3     583408      555115\n",
      "8947        15          0.8             11  task8     555267      555045\n",
      "8986        15          0.8             31  task2     540279      473884\n",
      "8990        15          0.8             31  task6     544274      473884\n",
      "8991        15          0.8             31  task7     469222      457870\n",
      "\n",
      "[179 rows x 6 columns]\n"
     ]
    }
   ],
   "source": [
    "print_wrong_result(combine_detail_result_path)"
   ]
  }
 ],
 "metadata": {
  "kernelspec": {
   "display_name": "venv",
   "language": "python",
   "name": "python3"
  },
  "language_info": {
   "codemirror_mode": {
    "name": "ipython",
    "version": 3
   },
   "file_extension": ".py",
   "mimetype": "text/x-python",
   "name": "python",
   "nbconvert_exporter": "python",
   "pygments_lexer": "ipython3",
   "version": "3.8.10"
  }
 },
 "nbformat": 4,
 "nbformat_minor": 2
}
