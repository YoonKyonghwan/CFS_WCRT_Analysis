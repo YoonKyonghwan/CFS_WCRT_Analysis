{
 "cells": [
  {
   "cell_type": "code",
   "execution_count": 22,
   "metadata": {},
   "outputs": [],
   "source": [
    "import pandas as pd\n",
    "from sklearn.metrics import confusion_matrix\n",
    "\n",
    "def check_correntness(input_path, output_path):\n",
    "    df = pd.read_csv(input_path, sep=\",\")\n",
    "\n",
    "    # Initialize empty lists to store the results\n",
    "    results = []\n",
    "\n",
    "    # Get unique combinations of numTasks and utilization\n",
    "    combinations = df[['numTasks', 'utilization']].drop_duplicates()\n",
    "\n",
    "    # Loop through each combination\n",
    "    for i, (num_tasks, utilization) in combinations.iterrows():\n",
    "        # Subset the data for the current combination\n",
    "        subset = df[(df['numTasks'] == num_tasks) & (df['utilization'] == utilization)]\n",
    "\n",
    "        # Calculate confusion matrix for the subset\n",
    "        confusion = confusion_matrix(subset['simulator_schedulability'], subset['proposed_schedulability'])\n",
    "\n",
    "        # Calculate True Positives (TP), True Negatives (TN), False Positives (FP), and False Negatives (FN)\n",
    "        if (confusion.shape == (2, 2)):\n",
    "            TP = confusion[1, 1]\n",
    "            TN = confusion[0, 0]\n",
    "            FP = confusion[0, 1]\n",
    "            FN = confusion[1, 0]\n",
    "        else:\n",
    "            assert confusion.shape == (1, 1)\n",
    "            if subset['simulator_schedulability'].iloc[0] == False:\n",
    "                TP = 0\n",
    "                TN = confusion[0, 0]\n",
    "                FP = 0\n",
    "                FN = 0\n",
    "            else:\n",
    "                TP = confusion[0, 0]\n",
    "                TN = 0\n",
    "                FP = 0\n",
    "                FN = 0\n",
    "                \n",
    "        accuracy = (TP + TN) / (TP + TN + FP + FN)\n",
    "        # precision = TP / (TP + FP) if (TP + FP) != 0 else 0\n",
    "        # recall = TP / (TP + FN) if (TP + FN) != 0 else 0\n",
    "\n",
    "        # Append the results to the list\n",
    "        results.append([num_tasks, utilization, TP, TN, FP, FN, accuracy])\n",
    "        # Calculate accuracy, precision, and recall for the subset\n",
    "\n",
    "    # Create a DataFrame to store the results\n",
    "    results_df = pd.DataFrame(results, columns=['numTasks', 'utilization', 'TP', 'TN', 'FP', 'FN', 'accuracy'])\n",
    "\n",
    "    # sort the results by numTasks and utilization\n",
    "    results_df = results_df.sort_values(['numTasks', 'utilization'])\n",
    "    \n",
    "    # Save the results to a CSV file\n",
    "    results_df.to_csv(output_path, index=False)\n",
    "\n",
    "    # Display the results\n",
    "    print(results_df)\n"
   ]
  },
  {
   "cell_type": "code",
   "execution_count": 23,
   "metadata": {},
   "outputs": [],
   "source": [
    "def show_detail_result(input_path, num_tasks, utilization):\n",
    "    df = pd.read_csv(input_path, sep=\",\")\n",
    "    subset = df[(df['numTasks'] == num_tasks) & (df['utilization'] == utilization)]\n",
    "    # merge subsets of simulator_schedulability and proposed_schedulability\n",
    "    print(subset[['simulator_schedulability', 'proposed_schedulability']])"
   ]
  },
  {
   "cell_type": "code",
   "execution_count": 24,
   "metadata": {},
   "outputs": [],
   "source": [
    "import os\n",
    "import glob\n",
    "import re\n",
    "\n",
    "def combine_detail_result(detail_result_dir, numCores, numTasks, utilizations, output_path):\n",
    "    current_dir = os.getcwd()\n",
    "    \n",
    "    results = []\n",
    "    for num_cores in numCores:\n",
    "        for num_tasks in numTasks:\n",
    "            for utilization in utilizations:\n",
    "    # detail_input_dir = exp_results/\n",
    "    # file_name sample = exp_results/detail_result/1cores/3tasks/0.2utilization/1cores_3tasks_0.2utilization_0_result.csv\n",
    "                detail_result_dir = os.path.join(detail_result_dir, str(num_cores) + 'cores', str(num_tasks) + 'tasks', str(utilization) + 'utilization')\n",
    "                os.chdir(detail_result_dir)\n",
    "                extension = 'csv'\n",
    "                all_filenames = [i for i in glob.glob('*.{}'.format(extension))]\n",
    "\n",
    "                # combine all files in the list \n",
    "                # append filename as a first column\n",
    "                for filename in all_filenames:\n",
    "                    pattern = r'(\\d+)cores_(\\d+)tasks_(\\d+\\.\\d+)utilization_(\\d+)_result.csv'\n",
    "                    match = re.match(pattern, filename)\n",
    "\n",
    "                    if match:                        \n",
    "                        df = pd.read_csv(filename, sep=\",\", header=None, index_col=0)\n",
    "                        df = df.iloc[1:] # remove header\n",
    "                        df['numCores'] = num_cores\n",
    "                        df['numTasks'] = num_tasks\n",
    "                        df['utilization'] = utilization\n",
    "                        df['dataset_index'] = int(match.group(4))\n",
    "                        \n",
    "                        results.append(df)\n",
    "    \n",
    "    # add column names\n",
    "    combined_df = pd.concat(results, axis=0, ignore_index=True)\n",
    "    combined_df.columns = ['name', 'WCRT(sim)', 'simulator_schedulability', 'WCRT(prop)', 'proposed_schedulability', 'numCores', 'numTasks', 'utilization', 'dataset_index']\n",
    "    # sort the results by numTasks and utilization\n",
    "    combined_df = combined_df.sort_values(['numTasks', 'utilization'])\n",
    "    \n",
    "    os.chdir(current_dir)\n",
    "    combined_df.to_csv(output_path, index=False)"
   ]
  },
  {
   "cell_type": "code",
   "execution_count": 25,
   "metadata": {},
   "outputs": [],
   "source": [
    "# Read the CSV file into a DataFrame\n",
    "result_dir = \"../../exp_results\""
   ]
  },
  {
   "cell_type": "code",
   "execution_count": 26,
   "metadata": {},
   "outputs": [
    {
     "name": "stdout",
     "output_type": "stream",
     "text": [
      "   numTasks  utilization  TP  TN  FP  FN  accuracy\n",
      "0       3.0          0.2   2   0   0   0       1.0\n"
     ]
    }
   ],
   "source": [
    "input_path = result_dir + \"/result_summary.csv\"\n",
    "output_path = result_dir + \"/correctness_per_dataset.csv\"\n",
    "\n",
    "check_correntness(input_path, output_path)"
   ]
  },
  {
   "cell_type": "code",
   "execution_count": 27,
   "metadata": {},
   "outputs": [
    {
     "name": "stdout",
     "output_type": "stream",
     "text": [
      "   numTasks  utilization  TP  TN  FP  FN  accuracy\n",
      "0       3.0          0.2   6   0   0   0       1.0\n"
     ]
    }
   ],
   "source": [
    "numCores = [1]\n",
    "numTasks = [3, 6, 9, 12, 15]\n",
    "utilizations = [0.2, 0.4, 0.6, 0.8]\n",
    "detail_result_dir = result_dir + \"/detail_result\"\n",
    "combine_detail_result_path = detail_result_dir + \"/combined_detail_result.csv\"\n",
    "combine_detail_result(detail_result_dir, numCores, numTasks, utilizations, combine_detail_result_path)\n",
    "\n",
    "input_path = combine_detail_result_path\n",
    "output_path = result_dir + \"/correctness_per_task.csv\"\n",
    "\n",
    "check_correntness(input_path, output_path)"
   ]
  },
  {
   "cell_type": "code",
   "execution_count": 33,
   "metadata": {},
   "outputs": [
    {
     "name": "stdout",
     "output_type": "stream",
     "text": [
      "Empty DataFrame\n",
      "Columns: [numTasks, utilization, dataset_index, name, WCRT(sim), WCRT(prop)]\n",
      "Index: []\n"
     ]
    }
   ],
   "source": [
    "df = pd.read_csv(combine_detail_result_path, sep=\",\")\n",
    "\n",
    "wrong_result = df[(df['WCRT(sim)'] > df['WCRT(prop)'])]\n",
    "\n",
    "print(wrong_result[['numTasks', 'utilization', 'dataset_index', 'name', 'WCRT(sim)', 'WCRT(prop)']])"
   ]
  }
 ],
 "metadata": {
  "kernelspec": {
   "display_name": "venv",
   "language": "python",
   "name": "python3"
  },
  "language_info": {
   "codemirror_mode": {
    "name": "ipython",
    "version": 3
   },
   "file_extension": ".py",
   "mimetype": "text/x-python",
   "name": "python",
   "nbconvert_exporter": "python",
   "pygments_lexer": "ipython3",
   "version": "3.8.10"
  }
 },
 "nbformat": 4,
 "nbformat_minor": 2
}
