{
 "cells": [
  {
   "cell_type": "code",
   "execution_count": 1,
   "metadata": {},
   "outputs": [],
   "source": [
    "from functions import *"
   ]
  },
  {
   "cell_type": "code",
   "execution_count": 2,
   "metadata": {},
   "outputs": [],
   "source": [
    "# Read the CSV file into a DataFrame\n",
    "result_dir = \"../../exp_results\""
   ]
  },
  {
   "cell_type": "code",
   "execution_count": 3,
   "metadata": {},
   "outputs": [
    {
     "name": "stdout",
     "output_type": "stream",
     "text": [
      "    numTasks  utilization  TP  TN  FP  FN  accuracy\n",
      "9        3.0          0.2  50   0   0   0      1.00\n",
      "10       3.0          0.4  49   1   0   0      1.00\n",
      "11       3.0          0.6  44   4   0   2      0.96\n",
      "6        6.0          0.2  49   1   0   0      1.00\n",
      "7        6.0          0.4  43   6   0   1      0.98\n",
      "8        6.0          0.6  34  13   0   3      0.94\n",
      "3        9.0          0.2  49   1   0   0      1.00\n",
      "4        9.0          0.4  32   9   0   9      0.82\n",
      "5        9.0          0.6  18  22   0  10      0.80\n",
      "0       12.0          0.2  43   1   0   6      0.88\n",
      "1       12.0          0.4  29  15   0   6      0.88\n",
      "2       12.0          0.6   9  37   0   4      0.92\n",
      "total accuracy :  0.9316666666666668\n"
     ]
    }
   ],
   "source": [
    "summary_path = result_dir + \"/result_summary.csv\"\n",
    "output_path = result_dir + \"/correctness_per_dataset.csv\"\n",
    "\n",
    "check_correntness(summary_path, output_path)"
   ]
  },
  {
   "cell_type": "code",
   "execution_count": 4,
   "metadata": {},
   "outputs": [
    {
     "name": "stdout",
     "output_type": "stream",
     "text": [
      "    numTasks  utilization   TP  TN  FP  FN  accuracy\n",
      "0        3.0          0.2  150   0   0   0  1.000000\n",
      "1        3.0          0.4  147   0   0   0  1.000000\n",
      "2        3.0          0.6  136   0   0   2  0.985507\n",
      "3        6.0          0.2  294   0   0   0  1.000000\n",
      "4        6.0          0.4  263   0   0   1  0.996212\n",
      "5        6.0          0.6  219   0   0   3  0.986486\n",
      "6        9.0          0.2  441   0   0   0  1.000000\n",
      "7        9.0          0.4  359   0   0  10  0.972900\n",
      "8        9.0          0.6  240   0   0  12  0.952381\n",
      "9       12.0          0.2  582   0   0   6  0.989796\n",
      "10      12.0          0.4  413   0   0   7  0.983333\n",
      "11      12.0          0.6  151   0   0   5  0.967949\n",
      "total accuracy :  0.9862137087585882\n"
     ]
    }
   ],
   "source": [
    "# Check the conservativeness of each task in cases where the schedulability analysis results in a True Positive (TP).\n",
    "detail_result_dir = result_dir + \"/detail_result\"\n",
    "combine_detail_result_path = detail_result_dir + \"/combined_detail_result.csv\"\n",
    "combine_detail_result(summary_path,  detail_result_dir, combine_detail_result_path)\n",
    "\n",
    "output_path = result_dir + \"/correctness_per_task.csv\"\n",
    "check_correntness(combine_detail_result_path, output_path)"
   ]
  }
 ],
 "metadata": {
  "kernelspec": {
   "display_name": "venv",
   "language": "python",
   "name": "python3"
  },
  "language_info": {
   "codemirror_mode": {
    "name": "ipython",
    "version": 3
   },
   "file_extension": ".py",
   "mimetype": "text/x-python",
   "name": "python",
   "nbconvert_exporter": "python",
   "pygments_lexer": "ipython3",
   "version": "3.8.10"
  }
 },
 "nbformat": 4,
 "nbformat_minor": 2
}
