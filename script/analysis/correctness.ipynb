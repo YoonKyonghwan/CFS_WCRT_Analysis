{
 "cells": [
  {
   "cell_type": "code",
   "execution_count": 1,
   "metadata": {},
   "outputs": [],
   "source": [
    "import pandas as pd\n",
    "import matplotlib.pyplot as plt\n",
    "\n",
    "# Read the CSV file into a DataFrame\n",
    "summary_result_path = \"../../exp_results/result_summary.csv\"\n",
    "df = pd.read_csv(summary_result_path, sep=\",\")\n",
    "\n",
    "# Calculate accuracy of 'proposed_schedulability' compared to 'simulator_schedulability'\n",
    "df['accuracy'] =  df['simulator_schedulability'] == df['proposed_schedulability']\n",
    "\n",
    "# Group the data by 'numTasks' and 'utilization' and calculate the accuracy rate\n",
    "grouped_accuracy = df.groupby(['numTasks', 'utilization'])['accuracy'].mean().reset_index()"
   ]
  },
  {
   "cell_type": "code",
   "execution_count": 2,
   "metadata": {},
   "outputs": [],
   "source": [
    "import pandas as pd\n",
    "from sklearn.metrics import confusion_matrix\n",
    "\n",
    "# Read the CSV file into a DataFrame\n",
    "summary_result_path = \"../../exp_results/result_summary.csv\"\n",
    "df = pd.read_csv(summary_result_path, sep=\",\")\n",
    "\n",
    "# Initialize empty lists to store the results\n",
    "results = []\n",
    "\n",
    "# Get unique combinations of numTasks and utilization\n",
    "combinations = df[['numTasks', 'utilization']].drop_duplicates()"
   ]
  },
  {
   "cell_type": "code",
   "execution_count": 3,
   "metadata": {},
   "outputs": [
    {
     "name": "stdout",
     "output_type": "stream",
     "text": [
      "    numTasks  utilization  TP  TN  FP  FN  accuracy\n",
      "0        3.0          0.2  47   0   3   0      0.94\n",
      "1        3.0          0.4  47   0   3   0      0.94\n",
      "2        3.0          0.6  39   0  11   0      0.78\n",
      "3        3.0          0.8  29   0  21   0      0.58\n",
      "4        6.0          0.2  42   0   8   0      0.84\n",
      "5        6.0          0.4  38   0  12   0      0.76\n",
      "6        6.0          0.6  24   0  26   0      0.48\n",
      "7        6.0          0.8  14   0  36   0      0.28\n",
      "8        9.0          0.2  35   0  15   0      0.70\n",
      "9        9.0          0.4  26   0  24   0      0.52\n",
      "10       9.0          0.6  15   0  35   0      0.30\n",
      "11       9.0          0.8   3   0  47   0      0.06\n",
      "12      12.0          0.2  20   0  30   0      0.40\n",
      "13      12.0          0.4  31   0  19   0      0.62\n",
      "14      12.0          0.6  10   0  40   0      0.20\n",
      "15      12.0          0.8   2   0  48   0      0.04\n",
      "16      15.0          0.2  11   0  39   0      0.22\n",
      "17      15.0          0.4  20   0  30   0      0.40\n",
      "18      15.0          0.6   6   0  44   0      0.12\n",
      "19      15.0          0.8   1   0  49   0      0.02\n"
     ]
    }
   ],
   "source": [
    "# Loop through each combination\n",
    "for i, (num_tasks, utilization) in combinations.iterrows():\n",
    "    # Subset the data for the current combination\n",
    "    subset = df[(df['numTasks'] == num_tasks) & (df['utilization'] == utilization)]\n",
    "\n",
    "    # Calculate confusion matrix for the subset\n",
    "    confusion = confusion_matrix(subset['simulator_schedulability'], subset['proposed_schedulability'])\n",
    "\n",
    "    # Calculate True Positives (TP), True Negatives (TN), False Positives (FP), and False Negatives (FN)\n",
    "    if (confusion.shape == (2, 2)):\n",
    "        TP = confusion[1, 1]\n",
    "        TN = confusion[0, 0]\n",
    "        FP = confusion[0, 1]\n",
    "        FN = confusion[1, 0]\n",
    "    else:\n",
    "        assert confusion.shape == (1, 1)\n",
    "        if subset['simulator_schedulability'].iloc[0] == False:\n",
    "            TP = 0\n",
    "            TN = confusion[0, 0]\n",
    "            FP = 0\n",
    "            FN = 0\n",
    "        else:\n",
    "            TP = confusion[0, 0]\n",
    "            TN = 0\n",
    "            FP = 0\n",
    "            FN = 0\n",
    "            \n",
    "    accuracy = (TP + TN) / (TP + TN + FP + FN)\n",
    "    # precision = TP / (TP + FP) if (TP + FP) != 0 else 0\n",
    "    # recall = TP / (TP + FN) if (TP + FN) != 0 else 0\n",
    "\n",
    "    # Append the results to the list\n",
    "    results.append([num_tasks, utilization, TP, TN, FP, FN, accuracy])\n",
    "    # Calculate accuracy, precision, and recall for the subset\n",
    "\n",
    "# Create a DataFrame to store the results\n",
    "results_df = pd.DataFrame(results, columns=['numTasks', 'utilization', 'TP', 'TN', 'FP', 'FN', 'accuracy'])\n",
    "\n",
    "# Save the results to a CSV file\n",
    "results_df.to_csv('../../exp_results/correctness_summary.csv', index=False)\n",
    "\n",
    "# Display the results\n",
    "print(results_df)\n"
   ]
  }
 ],
 "metadata": {
  "kernelspec": {
   "display_name": "venv",
   "language": "python",
   "name": "python3"
  },
  "language_info": {
   "codemirror_mode": {
    "name": "ipython",
    "version": 3
   },
   "file_extension": ".py",
   "mimetype": "text/x-python",
   "name": "python",
   "nbconvert_exporter": "python",
   "pygments_lexer": "ipython3",
   "version": "3.8.10"
  }
 },
 "nbformat": 4,
 "nbformat_minor": 2
}
