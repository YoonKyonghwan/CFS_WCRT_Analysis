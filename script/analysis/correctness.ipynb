{
 "cells": [
  {
   "cell_type": "code",
   "execution_count": 1,
   "metadata": {},
   "outputs": [],
   "source": [
    "from functions import *"
   ]
  },
  {
   "cell_type": "code",
   "execution_count": 2,
   "metadata": {},
   "outputs": [],
   "source": [
    "# Read the CSV file into a DataFrame\n",
    "result_dir = \"../../exp_results\""
   ]
  },
  {
   "cell_type": "code",
   "execution_count": 3,
   "metadata": {},
   "outputs": [
    {
     "name": "stdout",
     "output_type": "stream",
     "text": [
      "    numTasks  utilization  TP  TN  FP  FN  accuracy\n",
      "0        3.0          0.2  50   0   0   0      1.00\n",
      "1        3.0          0.4  45   3   0   2      0.96\n",
      "2        3.0          0.6  46   4   0   0      1.00\n",
      "3        3.0          0.8  31  18   0   1      0.98\n",
      "4        6.0          0.2  48   0   0   2      0.96\n",
      "5        6.0          0.4  37   9   0   4      0.92\n",
      "6        6.0          0.6  32  13   0   5      0.90\n",
      "7        6.0          0.8  16  31   0   3      0.94\n",
      "8        9.0          0.2  44   0   0   6      0.88\n",
      "9        9.0          0.4  33   9   0   8      0.84\n",
      "10       9.0          0.6  20  24   0   6      0.88\n",
      "11       9.0          0.8   6  41   0   3      0.94\n",
      "12      12.0          0.2  41   0   0   9      0.82\n",
      "13      12.0          0.4  21  15   0  14      0.72\n",
      "14      12.0          0.6  14  26   0  10      0.80\n",
      "15      12.0          0.8   4  43   0   3      0.94\n",
      "16      15.0          0.2  36   0   0  14      0.72\n",
      "17      15.0          0.4  15  19   0  16      0.68\n",
      "18      15.0          0.6   9  34   0   7      0.86\n",
      "19      15.0          0.8   0  46   0   4      0.92\n"
     ]
    }
   ],
   "source": [
    "summary_path = result_dir + \"/result_summary.csv\"\n",
    "output_path = result_dir + \"/correctness_per_dataset.csv\"\n",
    "\n",
    "check_correntness(summary_path, output_path)"
   ]
  },
  {
   "cell_type": "code",
   "execution_count": 4,
   "metadata": {},
   "outputs": [
    {
     "name": "stdout",
     "output_type": "stream",
     "text": [
      "FN_info\n",
      "    nTasks  util  tasksetIndex  sched(Sim)  sched(proposed)\n",
      "52       3   0.4             2        True            False\n",
      "70       3   0.4            20        True            False\n",
      "\n",
      "\n",
      "Taskset_index:  2\n",
      "    WCRT(Sim)  sched(Sim)  WCRT(proposed)  sched(proposed)\n",
      "id                                                        \n",
      "1       74861        True           77469             True\n",
      "2      132742        True          132742             True\n",
      "3       92316        True               0            False\n",
      "\n",
      "\n",
      "Taskset_index:  20\n",
      "    WCRT(Sim)  sched(Sim)  WCRT(proposed)  sched(proposed)\n",
      "id                                                        \n",
      "1      316848        True          317124             True\n",
      "2      147210        True          168275             True\n",
      "3      185340        True               0            False\n"
     ]
    }
   ],
   "source": [
    "summary_path = result_dir + \"/result_summary.csv\"\n",
    "\n",
    "num_cores = 1\n",
    "num_tasks = 3\n",
    "utilization =0.4 \n",
    "detail_result_dir = result_dir + \"/detail_result\"\n",
    "\n",
    "FN_subset_info = search_FN_info(summary_path, num_tasks, utilization)\n",
    "print(\"FN_info\")\n",
    "print(FN_subset_info)\n",
    "\n",
    "taskset_indice = FN_subset_info[\"tasksetIndex\"].tolist()\n",
    "for taskset_index in taskset_indice:\n",
    "    print(\"\\n\\nTaskset_index: \", taskset_index)\n",
    "    detail_result = show_detail_result(detail_result_dir, num_cores, num_tasks, utilization, taskset_index)\n",
    "    print(detail_result)"
   ]
  },
  {
   "cell_type": "code",
   "execution_count": null,
   "metadata": {},
   "outputs": [],
   "source": []
  },
  {
   "cell_type": "code",
   "execution_count": 11,
   "metadata": {},
   "outputs": [
    {
     "ename": "ValueError",
     "evalue": "Length mismatch: Expected axis has 5 elements, new values have 9 elements",
     "output_type": "error",
     "traceback": [
      "\u001b[0;31m---------------------------------------------------------------------------\u001b[0m",
      "\u001b[0;31mValueError\u001b[0m                                Traceback (most recent call last)",
      "\u001b[1;32m/home/ykw6644/workspace/SchedulabilityAnalysis/paper_experiment/cfs-wcrt-simulator/script/analysis/correctness.ipynb Cell 6\u001b[0m line \u001b[0;36m<cell line: 41>\u001b[0;34m()\u001b[0m\n\u001b[1;32m     <a href='vscode-notebook-cell:/home/ykw6644/workspace/SchedulabilityAnalysis/paper_experiment/cfs-wcrt-simulator/script/analysis/correctness.ipynb#W3sZmlsZQ%3D%3D?line=38'>39</a>\u001b[0m detail_result_dir \u001b[39m=\u001b[39m result_dir \u001b[39m+\u001b[39m \u001b[39m\"\u001b[39m\u001b[39m/detail_result\u001b[39m\u001b[39m\"\u001b[39m\n\u001b[1;32m     <a href='vscode-notebook-cell:/home/ykw6644/workspace/SchedulabilityAnalysis/paper_experiment/cfs-wcrt-simulator/script/analysis/correctness.ipynb#W3sZmlsZQ%3D%3D?line=39'>40</a>\u001b[0m combine_detail_result_path \u001b[39m=\u001b[39m detail_result_dir \u001b[39m+\u001b[39m \u001b[39m\"\u001b[39m\u001b[39m/combined_detail_result.csv\u001b[39m\u001b[39m\"\u001b[39m\n\u001b[0;32m---> <a href='vscode-notebook-cell:/home/ykw6644/workspace/SchedulabilityAnalysis/paper_experiment/cfs-wcrt-simulator/script/analysis/correctness.ipynb#W3sZmlsZQ%3D%3D?line=40'>41</a>\u001b[0m combine_detail_result(summary_path,  detail_result_dir, combine_detail_result_path)\n",
      "\u001b[1;32m/home/ykw6644/workspace/SchedulabilityAnalysis/paper_experiment/cfs-wcrt-simulator/script/analysis/correctness.ipynb Cell 6\u001b[0m line \u001b[0;36mcombine_detail_result\u001b[0;34m(summary_path, detail_result_dir, combine_detail_result_path)\u001b[0m\n\u001b[1;32m     <a href='vscode-notebook-cell:/home/ykw6644/workspace/SchedulabilityAnalysis/paper_experiment/cfs-wcrt-simulator/script/analysis/correctness.ipynb#W3sZmlsZQ%3D%3D?line=23'>24</a>\u001b[0m \u001b[39m# add column names\u001b[39;00m\n\u001b[1;32m     <a href='vscode-notebook-cell:/home/ykw6644/workspace/SchedulabilityAnalysis/paper_experiment/cfs-wcrt-simulator/script/analysis/correctness.ipynb#W3sZmlsZQ%3D%3D?line=24'>25</a>\u001b[0m combined_df \u001b[39m=\u001b[39m pd\u001b[39m.\u001b[39mconcat(results, axis\u001b[39m=\u001b[39m\u001b[39m0\u001b[39m, ignore_index\u001b[39m=\u001b[39m\u001b[39mTrue\u001b[39;00m)\n\u001b[0;32m---> <a href='vscode-notebook-cell:/home/ykw6644/workspace/SchedulabilityAnalysis/paper_experiment/cfs-wcrt-simulator/script/analysis/correctness.ipynb#W3sZmlsZQ%3D%3D?line=25'>26</a>\u001b[0m combined_df\u001b[39m.\u001b[39mcolumns \u001b[39m=\u001b[39m [\u001b[39m'\u001b[39m\u001b[39mname\u001b[39m\u001b[39m'\u001b[39m, \u001b[39m'\u001b[39m\u001b[39mWCRT(sim)\u001b[39m\u001b[39m'\u001b[39m, \u001b[39m'\u001b[39m\u001b[39msimulator_schedulability\u001b[39m\u001b[39m'\u001b[39m, \u001b[39m'\u001b[39m\u001b[39mWCRT(prop)\u001b[39m\u001b[39m'\u001b[39m, \u001b[39m'\u001b[39m\u001b[39mproposed_schedulability\u001b[39m\u001b[39m'\u001b[39m, \u001b[39m'\u001b[39m\u001b[39mnumCores\u001b[39m\u001b[39m'\u001b[39m, \u001b[39m'\u001b[39m\u001b[39mnumTasks\u001b[39m\u001b[39m'\u001b[39m, \u001b[39m'\u001b[39m\u001b[39mutilization\u001b[39m\u001b[39m'\u001b[39m, \u001b[39m'\u001b[39m\u001b[39mdataset_index\u001b[39m\u001b[39m'\u001b[39m]\n\u001b[1;32m     <a href='vscode-notebook-cell:/home/ykw6644/workspace/SchedulabilityAnalysis/paper_experiment/cfs-wcrt-simulator/script/analysis/correctness.ipynb#W3sZmlsZQ%3D%3D?line=26'>27</a>\u001b[0m \u001b[39m# sort the results by numTasks and utilization\u001b[39;00m\n\u001b[1;32m     <a href='vscode-notebook-cell:/home/ykw6644/workspace/SchedulabilityAnalysis/paper_experiment/cfs-wcrt-simulator/script/analysis/correctness.ipynb#W3sZmlsZQ%3D%3D?line=27'>28</a>\u001b[0m combined_df \u001b[39m=\u001b[39m combined_df\u001b[39m.\u001b[39msort_values([\u001b[39m'\u001b[39m\u001b[39mnumTasks\u001b[39m\u001b[39m'\u001b[39m, \u001b[39m'\u001b[39m\u001b[39mutilization\u001b[39m\u001b[39m'\u001b[39m])\n",
      "File \u001b[0;32m~/.local/lib/python3.8/site-packages/pandas/core/generic.py:6002\u001b[0m, in \u001b[0;36mNDFrame.__setattr__\u001b[0;34m(self, name, value)\u001b[0m\n\u001b[1;32m   6000\u001b[0m \u001b[39mtry\u001b[39;00m:\n\u001b[1;32m   6001\u001b[0m     \u001b[39mobject\u001b[39m\u001b[39m.\u001b[39m\u001b[39m__getattribute__\u001b[39m(\u001b[39mself\u001b[39m, name)\n\u001b[0;32m-> 6002\u001b[0m     \u001b[39mreturn\u001b[39;00m \u001b[39mobject\u001b[39;49m\u001b[39m.\u001b[39;49m\u001b[39m__setattr__\u001b[39;49m(\u001b[39mself\u001b[39;49m, name, value)\n\u001b[1;32m   6003\u001b[0m \u001b[39mexcept\u001b[39;00m \u001b[39mAttributeError\u001b[39;00m:\n\u001b[1;32m   6004\u001b[0m     \u001b[39mpass\u001b[39;00m\n",
      "File \u001b[0;32m~/.local/lib/python3.8/site-packages/pandas/_libs/properties.pyx:69\u001b[0m, in \u001b[0;36mpandas._libs.properties.AxisProperty.__set__\u001b[0;34m()\u001b[0m\n",
      "File \u001b[0;32m~/.local/lib/python3.8/site-packages/pandas/core/generic.py:730\u001b[0m, in \u001b[0;36mNDFrame._set_axis\u001b[0;34m(self, axis, labels)\u001b[0m\n\u001b[1;32m    725\u001b[0m \u001b[39m\"\"\"\u001b[39;00m\n\u001b[1;32m    726\u001b[0m \u001b[39mThis is called from the cython code when we set the `index` attribute\u001b[39;00m\n\u001b[1;32m    727\u001b[0m \u001b[39mdirectly, e.g. `series.index = [1, 2, 3]`.\u001b[39;00m\n\u001b[1;32m    728\u001b[0m \u001b[39m\"\"\"\u001b[39;00m\n\u001b[1;32m    729\u001b[0m labels \u001b[39m=\u001b[39m ensure_index(labels)\n\u001b[0;32m--> 730\u001b[0m \u001b[39mself\u001b[39;49m\u001b[39m.\u001b[39;49m_mgr\u001b[39m.\u001b[39;49mset_axis(axis, labels)\n\u001b[1;32m    731\u001b[0m \u001b[39mself\u001b[39m\u001b[39m.\u001b[39m_clear_item_cache()\n",
      "File \u001b[0;32m~/.local/lib/python3.8/site-packages/pandas/core/internals/managers.py:225\u001b[0m, in \u001b[0;36mBaseBlockManager.set_axis\u001b[0;34m(self, axis, new_labels)\u001b[0m\n\u001b[1;32m    223\u001b[0m \u001b[39mdef\u001b[39;00m \u001b[39mset_axis\u001b[39m(\u001b[39mself\u001b[39m, axis: AxisInt, new_labels: Index) \u001b[39m-\u001b[39m\u001b[39m>\u001b[39m \u001b[39mNone\u001b[39;00m:\n\u001b[1;32m    224\u001b[0m     \u001b[39m# Caller is responsible for ensuring we have an Index object.\u001b[39;00m\n\u001b[0;32m--> 225\u001b[0m     \u001b[39mself\u001b[39;49m\u001b[39m.\u001b[39;49m_validate_set_axis(axis, new_labels)\n\u001b[1;32m    226\u001b[0m     \u001b[39mself\u001b[39m\u001b[39m.\u001b[39maxes[axis] \u001b[39m=\u001b[39m new_labels\n",
      "File \u001b[0;32m~/.local/lib/python3.8/site-packages/pandas/core/internals/base.py:70\u001b[0m, in \u001b[0;36mDataManager._validate_set_axis\u001b[0;34m(self, axis, new_labels)\u001b[0m\n\u001b[1;32m     67\u001b[0m     \u001b[39mpass\u001b[39;00m\n\u001b[1;32m     69\u001b[0m \u001b[39melif\u001b[39;00m new_len \u001b[39m!=\u001b[39m old_len:\n\u001b[0;32m---> 70\u001b[0m     \u001b[39mraise\u001b[39;00m \u001b[39mValueError\u001b[39;00m(\n\u001b[1;32m     71\u001b[0m         \u001b[39mf\u001b[39m\u001b[39m\"\u001b[39m\u001b[39mLength mismatch: Expected axis has \u001b[39m\u001b[39m{\u001b[39;00mold_len\u001b[39m}\u001b[39;00m\u001b[39m elements, new \u001b[39m\u001b[39m\"\u001b[39m\n\u001b[1;32m     72\u001b[0m         \u001b[39mf\u001b[39m\u001b[39m\"\u001b[39m\u001b[39mvalues have \u001b[39m\u001b[39m{\u001b[39;00mnew_len\u001b[39m}\u001b[39;00m\u001b[39m elements\u001b[39m\u001b[39m\"\u001b[39m\n\u001b[1;32m     73\u001b[0m     )\n",
      "\u001b[0;31mValueError\u001b[0m: Length mismatch: Expected axis has 5 elements, new values have 9 elements"
     ]
    }
   ],
   "source": [
    "import pandas as pd\n",
    "import os\n",
    "\n",
    "def combine_detail_result(summary_path,  detail_result_dir, combine_detail_result_path):\n",
    "    summary_df = pd.read_csv(summary_path, sep=\",\")\n",
    "    \n",
    "    results = []\n",
    "    \n",
    "    for _, result in summary_df.iterrows():\n",
    "        if result['simulator_schedulability'] == True:\n",
    "            num_cores = result['numCores']\n",
    "            num_tasks = result['numTasks']\n",
    "            utilization = result['utilization']\n",
    "            taskset_index = result['tasksetIndex']\n",
    "            \n",
    "            filepath = os.path.join(detail_result_dir, str(num_cores) + 'cores', str(num_tasks) + 'tasks', str(utilization) + 'utilization')\n",
    "            filename = str(num_cores) + 'cores_' + str(num_tasks) + 'tasks_' + str(utilization) + 'utilization_' + str(taskset_index) + '_result.csv'\n",
    "            filepath_filename = os.path.join(filepath, filename)\n",
    "            detail_df = pd.read_csv(filepath_filename, sep=\",\", header=None, index_col=0)\n",
    "            detail_df = detail_df.iloc[1:] # remove the first row\n",
    "            detail_df['numCores'] = num_cores\n",
    "            detail_df['numTasks'] = num_tasks\n",
    "            detail_df['utilization'] = utilization\n",
    "            detail_df['tasksetIndex'] = taskset_index\n",
    "            results.append(detail_df)\n",
    "    \n",
    "    \n",
    "    # add column names\n",
    "    combined_df = pd.concat(results, axis=0, ignore_index=True)\n",
    "    combined_df.columns = ['name', 'WCRT(sim)', 'simulator_schedulability', 'WCRT(prop)', 'proposed_schedulability', 'numCores', 'numTasks', 'utilization', 'tasksetIndex']\n",
    "    # sort the results by numTasks and utilization\n",
    "    combined_df = combined_df.sort_values(['numTasks', 'utilization'])\n",
    "    print(combined_df[:10])\n",
    "    assert False\n",
    "    \n",
    "    combined_df.to_csv(combine_detail_result_path, index=False)\n",
    "    \n",
    "# Read the CSV file into a DataFrame\n",
    "result_dir = \"../../exp_results\"\n",
    "summary_path = result_dir + \"/result_summary.csv\"\n",
    "\n",
    "# check conservativeness of results for each task\n",
    "detail_result_dir = result_dir + \"/detail_result\"\n",
    "combine_detail_result_path = detail_result_dir + \"/combined_detail_result.csv\"\n",
    "combine_detail_result(summary_path,  detail_result_dir, combine_detail_result_path)\n",
    "\n",
    "# output_path = result_dir + \"/correctness_per_task.csv\"\n",
    "\n",
    "# check_correntness(combine_detail_result_path, output_path)"
   ]
  },
  {
   "cell_type": "code",
   "execution_count": 7,
   "metadata": {},
   "outputs": [
    {
     "name": "stdout",
     "output_type": "stream",
     "text": [
      "check the correctness : \n",
      "If the system schedulability is true, the proposed method is always conservative \n"
     ]
    }
   ],
   "source": [
    "## print results that WCRT(sim) > WCRT(proposed)\n",
    "# print_non_conservative_results(combine_detail_result_path)\n",
    "\n",
    "# assert that non convervative results are occured only when the system is not schedulable\n",
    "check_non_conservative_results(summary_path, combine_detail_result_path)"
   ]
  }
 ],
 "metadata": {
  "kernelspec": {
   "display_name": "venv",
   "language": "python",
   "name": "python3"
  },
  "language_info": {
   "codemirror_mode": {
    "name": "ipython",
    "version": 3
   },
   "file_extension": ".py",
   "mimetype": "text/x-python",
   "name": "python",
   "nbconvert_exporter": "python",
   "pygments_lexer": "ipython3",
   "version": "3.8.10"
  }
 },
 "nbformat": 4,
 "nbformat_minor": 2
}
