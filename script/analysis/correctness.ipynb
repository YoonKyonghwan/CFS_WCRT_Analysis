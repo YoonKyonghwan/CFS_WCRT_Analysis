{
 "cells": [
  {
   "cell_type": "code",
   "execution_count": 90,
   "metadata": {},
   "outputs": [],
   "source": [
    "import pandas as pd\n",
    "from sklearn.metrics import confusion_matrix\n",
    "\n",
    "def check_correntness(input_path, output_path):\n",
    "    df = pd.read_csv(input_path, sep=\",\")\n",
    "\n",
    "    # Initialize empty lists to store the results\n",
    "    results = []\n",
    "\n",
    "    # Get unique combinations of numTasks and utilization\n",
    "    combinations = df[['numTasks', 'utilization']].drop_duplicates()\n",
    "\n",
    "    # Loop through each combination\n",
    "    for i, (num_tasks, utilization) in combinations.iterrows():\n",
    "        # Subset the data for the current combination\n",
    "        subset = df[(df['numTasks'] == num_tasks) & (df['utilization'] == utilization)]\n",
    "\n",
    "        # Calculate confusion matrix for the subset\n",
    "        confusion = confusion_matrix(subset['simulator_schedulability'], subset['proposed_schedulability'])\n",
    "\n",
    "        # Calculate True Positives (TP), True Negatives (TN), False Positives (FP), and False Negatives (FN)\n",
    "        if (confusion.shape == (2, 2)):\n",
    "            TP = confusion[1, 1]\n",
    "            TN = confusion[0, 0]\n",
    "            FP = confusion[0, 1]\n",
    "            FN = confusion[1, 0]\n",
    "        else:\n",
    "            assert confusion.shape == (1, 1)\n",
    "            if subset['simulator_schedulability'].iloc[0] == False:\n",
    "                TP = 0\n",
    "                TN = confusion[0, 0]\n",
    "                FP = 0\n",
    "                FN = 0\n",
    "            else:\n",
    "                TP = confusion[0, 0]\n",
    "                TN = 0\n",
    "                FP = 0\n",
    "                FN = 0\n",
    "                \n",
    "        accuracy = (TP + TN) / (TP + TN + FP + FN)\n",
    "        # precision = TP / (TP + FP) if (TP + FP) != 0 else 0\n",
    "        # recall = TP / (TP + FN) if (TP + FN) != 0 else 0\n",
    "\n",
    "        # Append the results to the list\n",
    "        results.append([num_tasks, utilization, TP, TN, FP, FN, accuracy])\n",
    "        # Calculate accuracy, precision, and recall for the subset\n",
    "\n",
    "    # Create a DataFrame to store the results\n",
    "    results_df = pd.DataFrame(results, columns=['numTasks', 'utilization', 'TP', 'TN', 'FP', 'FN', 'accuracy'])\n",
    "\n",
    "    # sort the results by numTasks and utilization\n",
    "    results_df = results_df.sort_values(['numTasks', 'utilization'])\n",
    "    \n",
    "    # Save the results to a CSV file\n",
    "    results_df.to_csv(output_path, index=False)\n",
    "\n",
    "    # Display the results\n",
    "    print(results_df)\n"
   ]
  },
  {
   "cell_type": "code",
   "execution_count": 91,
   "metadata": {},
   "outputs": [],
   "source": [
    "def show_detail_result(input_path, num_tasks, utilization):\n",
    "    df = pd.read_csv(input_path, sep=\",\")\n",
    "    subset = df[(df['numTasks'] == num_tasks) & (df['utilization'] == utilization)]\n",
    "    # merge subsets of simulator_schedulability and proposed_schedulability\n",
    "    print(subset[['simulator_schedulability', 'proposed_schedulability']])"
   ]
  },
  {
   "cell_type": "code",
   "execution_count": 92,
   "metadata": {},
   "outputs": [],
   "source": [
    "import os\n",
    "import glob\n",
    "import re\n",
    "\n",
    "def combine_detail_result(detail_input_dir, output_path):\n",
    "    current_dir = os.getcwd()\n",
    "    os.chdir(detail_input_dir)\n",
    "    extension = 'csv'\n",
    "    all_filenames = [i for i in glob.glob('*.{}'.format(extension))]\n",
    "\n",
    "    # combine all files in the list \n",
    "    # append filename as a first column\n",
    "    result_df = []\n",
    "    for filename in all_filenames:\n",
    "        \n",
    "        pattern = r'(\\d+)cores_(\\d+)tasks_(\\d+\\.\\d+)utilization_(\\d+)_result.csv'\n",
    "        match = re.match(pattern, filename)\n",
    "\n",
    "        if match:\n",
    "            num_cores = int(match.group(1))\n",
    "            num_tasks = int(match.group(2))\n",
    "            utilization = float(match.group(3))\n",
    "            dataset_index = int(match.group(4))\n",
    "\n",
    "            \n",
    "            df = pd.read_csv(filename, sep=\",\", header=None, index_col=0)\n",
    "            df = df.iloc[1:] # remove header\n",
    "            df['numCores'] = num_cores\n",
    "            df['numTasks'] = num_tasks\n",
    "            df['utilization'] = utilization\n",
    "            df['dataset_index'] = dataset_index\n",
    "            \n",
    "            result_df.append(df)\n",
    "            \n",
    "    combined_df = pd.concat(result_df, axis=0, ignore_index=True)\n",
    "    combined_df.columns = ['name', 'WCRT_by_simulator', 'simulator_schedulability', 'WCRT_by_proposed', 'proposed_schedulability', 'numCores', 'numTasks', 'utilization', 'dataset_index']\n",
    "    \n",
    "    # sort the results by numTasks and utilization\n",
    "    combined_df = combined_df.sort_values(['numTasks', 'utilization'])\n",
    "    \n",
    "    os.chdir(current_dir)\n",
    "    combined_df.to_csv(output_path, index=False)"
   ]
  },
  {
   "cell_type": "code",
   "execution_count": 93,
   "metadata": {},
   "outputs": [],
   "source": [
    "# Read the CSV file into a DataFrame\n",
    "result_dir = \"../../exp_results\""
   ]
  },
  {
   "cell_type": "code",
   "execution_count": 94,
   "metadata": {},
   "outputs": [
    {
     "name": "stdout",
     "output_type": "stream",
     "text": [
      "    numTasks  utilization  TP  TN  FP  FN  accuracy\n",
      "0        3.0          0.2  45   3   0   2      0.96\n",
      "1        3.0          0.4  38   8   0   4      0.92\n",
      "2        3.0          0.6  36  10   0   4      0.92\n",
      "3        3.0          0.8  26  21   0   3      0.94\n",
      "4        6.0          0.2  39   5   0   6      0.88\n",
      "5        6.0          0.4  29  10   0  11      0.78\n",
      "6        6.0          0.6  24  20   0   6      0.88\n",
      "7        6.0          0.8  16  31   0   3      0.94\n",
      "8        9.0          0.2  26  12   0  12      0.76\n",
      "9        9.0          0.4  16  19   0  15      0.70\n",
      "10       9.0          0.6   9  35   0   6      0.88\n",
      "11       9.0          0.8   6  39   0   5      0.90\n",
      "12      12.0          0.2  21  11   0  18      0.64\n",
      "13      12.0          0.4  15  26   0   9      0.82\n",
      "14      12.0          0.6   8  33   0   9      0.82\n",
      "15      12.0          0.8   1  45   0   4      0.92\n",
      "16      15.0          0.2  14  21   0  15      0.70\n",
      "17      15.0          0.4  13  20   0  17      0.66\n",
      "18      15.0          0.6   2  36   0  12      0.76\n",
      "19      15.0          0.8   0  47   0   3      0.94\n"
     ]
    }
   ],
   "source": [
    "input_path = result_dir + \"/result_summary.csv\"\n",
    "output_path = result_dir + \"/correctness_per_dataset.csv\"\n",
    "\n",
    "check_correntness(input_path, output_path)"
   ]
  },
  {
   "cell_type": "code",
   "execution_count": 95,
   "metadata": {},
   "outputs": [
    {
     "name": "stdout",
     "output_type": "stream",
     "text": [
      "     numTasks  utilization  TP  TN  FP  FN  accuracy\n",
      "0         0.2          0.0  41   2   0   2  0.955556\n",
      "1         0.2          1.0  43   0   0   2  0.955556\n",
      "2         0.2          2.0  43   0   0   2  0.955556\n",
      "3         0.2          3.0  42   1   0   2  0.955556\n",
      "4         0.2          4.0  44   1   0   0  1.000000\n",
      "..        ...          ...  ..  ..  ..  ..       ...\n",
      "195       0.8         45.0  36   5   0   4  0.911111\n",
      "196       0.8         46.0  35   5   0   5  0.888889\n",
      "197       0.8         47.0  36   6   0   3  0.933333\n",
      "198       0.8         48.0  30  12   0   3  0.933333\n",
      "199       0.8         49.0  31   8   0   6  0.866667\n",
      "\n",
      "[200 rows x 7 columns]\n"
     ]
    }
   ],
   "source": [
    "detail_input_dir = result_dir + \"/detailed_result\"\n",
    "combine_detail_result_path = detail_input_dir + \"/combined_detail_result.csv\"\n",
    "combine_detail_result(detail_input_dir, combine_detail_result_path)\n",
    "\n",
    "input_path = combine_detail_result_path\n",
    "output_path = result_dir + \"/correctness_per_task.csv\"\n",
    "\n",
    "check_correntness(input_path, output_path)"
   ]
  },
  {
   "cell_type": "code",
   "execution_count": 96,
   "metadata": {},
   "outputs": [
    {
     "name": "stdout",
     "output_type": "stream",
     "text": [
      "        name  WCRT_by_simulator  simulator_schedulability  WCRT_by_proposed   \n",
      "7348   task8             543827                     False            393386  \\\n",
      "7389   task1             714430                     False            596297   \n",
      "7455  task10             334650                     False            274578   \n",
      "8000  task12             471906                     False            399036   \n",
      "8003  task15             512984                     False            399036   \n",
      "8583   task4             685678                     False            488663   \n",
      "8712  task10             312124                     False            292679   \n",
      "\n",
      "      proposed_schedulability  dataset_index  numCores  numTasks  utilization  \n",
      "7348                     True              1         9       0.8           13  \n",
      "7389                     True              1        12       0.8           14  \n",
      "7455                     True              1        15       0.8           15  \n",
      "8000                     True              1        15       0.8           27  \n",
      "8003                     True              1        15       0.8           27  \n",
      "8583                     True              1        15       0.8           40  \n",
      "8712                     True              1        15       0.8           43  \n"
     ]
    }
   ],
   "source": [
    "df = pd.read_csv(combine_detail_result_path, sep=\",\")\n",
    "\n",
    "# print rows with simulator_schedulability = False and proposed_schedulability = True\n",
    "print(df[(df['simulator_schedulability'] == False) & (df['proposed_schedulability'] == True)])"
   ]
  }
 ],
 "metadata": {
  "kernelspec": {
   "display_name": "venv",
   "language": "python",
   "name": "python3"
  },
  "language_info": {
   "codemirror_mode": {
    "name": "ipython",
    "version": 3
   },
   "file_extension": ".py",
   "mimetype": "text/x-python",
   "name": "python",
   "nbconvert_exporter": "python",
   "pygments_lexer": "ipython3",
   "version": "3.8.10"
  }
 },
 "nbformat": 4,
 "nbformat_minor": 2
}
