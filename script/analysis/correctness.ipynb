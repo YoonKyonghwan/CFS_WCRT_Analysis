{
 "cells": [
  {
   "cell_type": "code",
   "execution_count": 1,
   "metadata": {},
   "outputs": [],
   "source": [
    "from functions import *"
   ]
  },
  {
   "cell_type": "code",
   "execution_count": 2,
   "metadata": {},
   "outputs": [],
   "source": [
    "# Read the CSV file into a DataFrame\n",
    "result_dir = \"../../exp_results\""
   ]
  },
  {
   "cell_type": "code",
   "execution_count": 3,
   "metadata": {},
   "outputs": [
    {
     "name": "stdout",
     "output_type": "stream",
     "text": [
      "    numTasks  utilization  TP  TN  FP  FN  accuracy\n",
      "9        3.0          0.2  50   0   0   0      1.00\n",
      "10       3.0          0.4  49   1   0   0      1.00\n",
      "11       3.0          0.6  44   4   0   2      0.96\n",
      "6        6.0          0.2  49   1   0   0      1.00\n",
      "7        6.0          0.4  43   6   0   1      0.98\n",
      "8        6.0          0.6  34  13   0   3      0.94\n",
      "3        9.0          0.2  49   1   0   0      1.00\n",
      "4        9.0          0.4  31  10   1   8      0.82\n",
      "5        9.0          0.6  16  24   2   8      0.80\n",
      "0       12.0          0.2  43   1   0   6      0.88\n",
      "1       12.0          0.4  29  15   0   6      0.88\n",
      "2       12.0          0.6   6  37   3   4      0.86\n",
      "total accuracy :  0.9266666666666667\n"
     ]
    }
   ],
   "source": [
    "summary_path = result_dir + \"/result_summary.csv\"\n",
    "output_path = result_dir + \"/correctness_per_dataset.csv\"\n",
    "\n",
    "check_correntness(summary_path, output_path)"
   ]
  },
  {
   "cell_type": "code",
   "execution_count": 4,
   "metadata": {},
   "outputs": [
    {
     "name": "stdout",
     "output_type": "stream",
     "text": [
      "FN_info\n",
      "Empty DataFrame\n",
      "Columns: [nTasks, util, tasksetIndex, sched(Sim), sched(proposed)]\n",
      "Index: []\n"
     ]
    }
   ],
   "source": [
    "summary_path = result_dir + \"/result_summary.csv\"\n",
    "\n",
    "num_cores = 1\n",
    "num_tasks = 3\n",
    "utilization =0.4 \n",
    "detail_result_dir = result_dir + \"/detail_result\"\n",
    "\n",
    "FN_subset_info = search_FN_info(summary_path, num_tasks, utilization)\n",
    "print(\"FN_info\")\n",
    "print(FN_subset_info)\n",
    "\n",
    "taskset_indice = FN_subset_info[\"tasksetIndex\"].tolist()\n",
    "for taskset_index in taskset_indice:\n",
    "    print(\"\\n\\nTaskset_index: \", taskset_index)\n",
    "    detail_result = show_detail_result(detail_result_dir, num_cores, num_tasks, utilization, taskset_index)\n",
    "    print(detail_result)"
   ]
  },
  {
   "cell_type": "code",
   "execution_count": 5,
   "metadata": {},
   "outputs": [
    {
     "name": "stdout",
     "output_type": "stream",
     "text": [
      "    numTasks  utilization   TP  TN  FP  FN  accuracy\n",
      "0        3.0          0.2  150   0   0   0  1.000000\n",
      "1        3.0          0.4  147   0   0   0  1.000000\n",
      "2        3.0          0.6  136   0   0   2  0.985507\n",
      "3        6.0          0.2  294   0   0   0  1.000000\n",
      "4        6.0          0.4  263   0   0   1  0.996212\n",
      "5        6.0          0.6  219   0   0   3  0.986486\n",
      "6        9.0          0.2  441   0   0   0  1.000000\n",
      "7        9.0          0.4  343   0   0   8  0.977208\n",
      "8        9.0          0.6  206   0   0  10  0.953704\n",
      "9       12.0          0.2  582   0   0   6  0.989796\n",
      "10      12.0          0.4  413   0   0   7  0.983333\n",
      "11      12.0          0.6  115   0   0   5  0.958333\n",
      "total accuracy :  0.9858816766684262\n"
     ]
    }
   ],
   "source": [
    "# check conservativeness of results for each task\n",
    "detail_result_dir = result_dir + \"/detail_result\"\n",
    "combine_detail_result_path = detail_result_dir + \"/combined_detail_result.csv\"\n",
    "combine_detail_result(summary_path,  detail_result_dir, combine_detail_result_path)\n",
    "\n",
    "output_path = result_dir + \"/correctness_per_task.csv\"\n",
    "check_correntness(combine_detail_result_path, output_path)"
   ]
  },
  {
   "cell_type": "code",
   "execution_count": 6,
   "metadata": {},
   "outputs": [
    {
     "name": "stdout",
     "output_type": "stream",
     "text": [
      "Empty DataFrame\n",
      "Columns: [numCores, numTasks, utilization, tasksetIndex, name, deadline, WCRT(sim), simulator_schedulability, WCRT(prop), proposed_schedulability]\n",
      "Index: []\n"
     ]
    }
   ],
   "source": [
    "import pandas as pd\n",
    "\n",
    "combine_detail_result = pd.read_csv(combine_detail_result_path, sep=\",\")\n",
    "TN_subset_info = combine_detail_result[combine_detail_result[\"simulator_schedulability\"] == False]\n",
    "print(TN_subset_info)"
   ]
  },
  {
   "cell_type": "code",
   "execution_count": 7,
   "metadata": {},
   "outputs": [],
   "source": [
    "## print results that WCRT(sim) > WCRT(proposed)\n",
    "# print_non_conservative_results(combine_detail_result_path)\n",
    "\n",
    "# assert that non convervative results are occured only when the system is not schedulable\n",
    "# check_non_conservative_results(summary_path, combine_detail_result_path)"
   ]
  }
 ],
 "metadata": {
  "kernelspec": {
   "display_name": "venv",
   "language": "python",
   "name": "python3"
  },
  "language_info": {
   "codemirror_mode": {
    "name": "ipython",
    "version": 3
   },
   "file_extension": ".py",
   "mimetype": "text/x-python",
   "name": "python",
   "nbconvert_exporter": "python",
   "pygments_lexer": "ipython3",
   "version": "3.8.10"
  }
 },
 "nbformat": 4,
 "nbformat_minor": 2
}
