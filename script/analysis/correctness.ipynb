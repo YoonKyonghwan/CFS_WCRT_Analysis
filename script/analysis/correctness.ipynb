{
 "cells": [
  {
   "cell_type": "code",
   "execution_count": 11,
   "metadata": {},
   "outputs": [],
   "source": [
    "import pandas as pd\n",
    "from sklearn.metrics import confusion_matrix\n",
    "\n",
    "def check_correntness(input_path, output_path):\n",
    "    df = pd.read_csv(input_path, sep=\",\")\n",
    "\n",
    "    # Initialize empty lists to store the results\n",
    "    results = []\n",
    "\n",
    "    # Get unique combinations of numTasks and utilization\n",
    "    combinations = df[['numTasks', 'utilization']].drop_duplicates()\n",
    "\n",
    "    # Loop through each combination\n",
    "    for i, (num_tasks, utilization) in combinations.iterrows():\n",
    "        # Subset the data for the current combination\n",
    "        subset = df[(df['numTasks'] == num_tasks) & (df['utilization'] == utilization)]\n",
    "\n",
    "        # Calculate confusion matrix for the subset\n",
    "        confusion = confusion_matrix(subset['simulator_schedulability'], subset['proposed_schedulability'])\n",
    "\n",
    "        # Calculate True Positives (TP), True Negatives (TN), False Positives (FP), and False Negatives (FN)\n",
    "        if (confusion.shape == (2, 2)):\n",
    "            TP = confusion[1, 1]\n",
    "            TN = confusion[0, 0]\n",
    "            FP = confusion[0, 1]\n",
    "            FN = confusion[1, 0]\n",
    "        else:\n",
    "            assert confusion.shape == (1, 1)\n",
    "            if subset['simulator_schedulability'].iloc[0] == False:\n",
    "                TP = 0\n",
    "                TN = confusion[0, 0]\n",
    "                FP = 0\n",
    "                FN = 0\n",
    "            else:\n",
    "                TP = confusion[0, 0]\n",
    "                TN = 0\n",
    "                FP = 0\n",
    "                FN = 0\n",
    "                \n",
    "        accuracy = (TP + TN) / (TP + TN + FP + FN)\n",
    "        # precision = TP / (TP + FP) if (TP + FP) != 0 else 0\n",
    "        # recall = TP / (TP + FN) if (TP + FN) != 0 else 0\n",
    "\n",
    "        # Append the results to the list\n",
    "        results.append([num_tasks, utilization, TP, TN, FP, FN, accuracy])\n",
    "        # Calculate accuracy, precision, and recall for the subset\n",
    "\n",
    "    # Create a DataFrame to store the results\n",
    "    results_df = pd.DataFrame(results, columns=['numTasks', 'utilization', 'TP', 'TN', 'FP', 'FN', 'accuracy'])\n",
    "\n",
    "    # sort the results by numTasks and utilization\n",
    "    results_df = results_df.sort_values(['numTasks', 'utilization'])\n",
    "    \n",
    "    # Save the results to a CSV file\n",
    "    results_df.to_csv(output_path, index=False)\n",
    "\n",
    "    # Display the results\n",
    "    print(results_df)\n"
   ]
  },
  {
   "cell_type": "code",
   "execution_count": 12,
   "metadata": {},
   "outputs": [],
   "source": [
    "def show_detail_result(input_path, num_tasks, utilization):\n",
    "    df = pd.read_csv(input_path, sep=\",\")\n",
    "    subset = df[(df['numTasks'] == num_tasks) & (df['utilization'] == utilization)]\n",
    "    # merge subsets of simulator_schedulability and proposed_schedulability\n",
    "    print(subset[['simulator_schedulability', 'proposed_schedulability']])"
   ]
  },
  {
   "cell_type": "code",
   "execution_count": 13,
   "metadata": {},
   "outputs": [],
   "source": [
    "import os\n",
    "import glob\n",
    "import re\n",
    "\n",
    "def combine_detail_result(detail_result_dir, numCores, numTasks, utilizations, output_path):\n",
    "    current_dir = os.getcwd()\n",
    "    \n",
    "    results = []\n",
    "    for num_cores in numCores:\n",
    "        for num_tasks in numTasks:\n",
    "            for utilization in utilizations:\n",
    "    # detail_input_dir = exp_results/\n",
    "    # file_name sample = exp_results/detail_result/1cores/3tasks/0.2utilization/1cores_3tasks_0.2utilization_0_result.csv\n",
    "                tmp_detail_result_dir = os.path.join(detail_result_dir, str(num_cores) + 'cores', str(num_tasks) + 'tasks', str(utilization) + 'utilization')\n",
    "                os.chdir(tmp_detail_result_dir)\n",
    "                extension = 'csv'\n",
    "                all_filenames = [i for i in glob.glob('*.{}'.format(extension))]\n",
    "\n",
    "                # combine all files in the list \n",
    "                # append filename as a first column\n",
    "                for filename in all_filenames:\n",
    "                    pattern = r'(\\d+)cores_(\\d+)tasks_(\\d+\\.\\d+)utilization_(\\d+)_result.csv'\n",
    "                    match = re.match(pattern, filename)\n",
    "\n",
    "                    if match:                        \n",
    "                        df = pd.read_csv(filename, sep=\",\", header=None, index_col=0)\n",
    "                        df = df.iloc[1:] # remove header\n",
    "                        df['numCores'] = num_cores\n",
    "                        df['numTasks'] = num_tasks\n",
    "                        df['utilization'] = utilization\n",
    "                        df['dataset_index'] = int(match.group(4))\n",
    "                        \n",
    "                        results.append(df)\n",
    "                os.chdir(current_dir)\n",
    "    \n",
    "    # add column names\n",
    "    combined_df = pd.concat(results, axis=0, ignore_index=True)\n",
    "    combined_df.columns = ['name', 'WCRT(sim)', 'simulator_schedulability', 'WCRT(prop)', 'proposed_schedulability', 'numCores', 'numTasks', 'utilization', 'dataset_index']\n",
    "    # sort the results by numTasks and utilization\n",
    "    combined_df = combined_df.sort_values(['numTasks', 'utilization'])\n",
    "    \n",
    "    \n",
    "    combined_df.to_csv(output_path, index=False)"
   ]
  },
  {
   "cell_type": "code",
   "execution_count": 14,
   "metadata": {},
   "outputs": [],
   "source": [
    "# Read the CSV file into a DataFrame\n",
    "result_dir = \"../../exp_results\""
   ]
  },
  {
   "cell_type": "code",
   "execution_count": 15,
   "metadata": {},
   "outputs": [
    {
     "data": {
      "text/plain": [
       "'/home/ykw6644/workspace/SchedulabilityAnalysis/paper_experiment/cfs-wcrt-simulator/script/analysis'"
      ]
     },
     "execution_count": 15,
     "metadata": {},
     "output_type": "execute_result"
    }
   ],
   "source": [
    "os.getcwd()"
   ]
  },
  {
   "cell_type": "code",
   "execution_count": 16,
   "metadata": {},
   "outputs": [
    {
     "name": "stdout",
     "output_type": "stream",
     "text": [
      "    numTasks  utilization  TP  TN  FP  FN  accuracy\n",
      "0        3.0          0.2  48   0   0   2      0.96\n",
      "1        3.0          0.4  43   5   1   1      0.96\n",
      "2        3.0          0.6  36   9   3   2      0.90\n",
      "3        3.0          0.8  25  20   4   1      0.90\n",
      "4        6.0          0.2  39   2   0   9      0.82\n",
      "5        6.0          0.4  33  10   2   5      0.86\n",
      "6        6.0          0.6  20  20   5   5      0.80\n",
      "7        6.0          0.8   8  31   6   5      0.78\n",
      "8        9.0          0.2  29   8   0  13      0.74\n",
      "9        9.0          0.4  23  14   2  11      0.74\n",
      "10       9.0          0.6   8  34   6   2      0.84\n",
      "11       9.0          0.8   3  42   2   3      0.90\n",
      "12      12.0          0.2  22   8   0  20      0.60\n",
      "13      12.0          0.4  17  12   1  20      0.58\n",
      "14      12.0          0.6   3  37   2   8      0.80\n",
      "15      12.0          0.8   1  42   1   6      0.86\n",
      "16      15.0          0.2  19   9   0  22      0.56\n",
      "17      15.0          0.4  11  16   2  21      0.54\n",
      "18      15.0          0.6   1  38   3   8      0.78\n",
      "19      15.0          0.8   0  50   0   0      1.00\n"
     ]
    }
   ],
   "source": [
    "input_path = result_dir + \"/result_summary.csv\"\n",
    "output_path = result_dir + \"/correctness_per_dataset.csv\"\n",
    "\n",
    "check_correntness(input_path, output_path)"
   ]
  },
  {
   "cell_type": "code",
   "execution_count": 17,
   "metadata": {},
   "outputs": [
    {
     "name": "stdout",
     "output_type": "stream",
     "text": [
      "    numTasks  utilization   TP   TN  FP  FN  accuracy\n",
      "0        3.0          0.2  148    0   0   2  0.986667\n",
      "1        3.0          0.4  144    5   0   1  0.993333\n",
      "2        3.0          0.6  138    9   0   3  0.980000\n",
      "3        3.0          0.8  127   22   0   1  0.993333\n",
      "4        6.0          0.2  288    4   0   8  0.973333\n",
      "5        6.0          0.4  284   10   0   6  0.980000\n",
      "6        6.0          0.6  270   24   0   6  0.980000\n",
      "7        6.0          0.8  240   46   1  13  0.953333\n",
      "8        9.0          0.2  425    8   0  17  0.962222\n",
      "9        9.0          0.4  414   21   0  15  0.966667\n",
      "10       9.0          0.6  393   40   0  17  0.962222\n",
      "11       9.0          0.8  349   68   0  33  0.926667\n",
      "12      12.0          0.2  555   13   0  32  0.946667\n",
      "13      12.0          0.4  553   17   0  30  0.950000\n",
      "14      12.0          0.6  498   64   0  38  0.936667\n",
      "15      12.0          0.8  475   81   2  42  0.926667\n",
      "16      15.0          0.2  705   18   0  27  0.964000\n",
      "17      15.0          0.4  691   24   0  35  0.953333\n",
      "18      15.0          0.6  643   67   0  40  0.946667\n",
      "19      15.0          0.8  566  121   2  61  0.916000\n"
     ]
    }
   ],
   "source": [
    "numCores = [1]\n",
    "numTasks = [3, 6, 9, 12, 15]\n",
    "utilizations = [0.2, 0.4, 0.6, 0.8]\n",
    "detail_result_dir = result_dir + \"/detail_result\"\n",
    "combine_detail_result_path = detail_result_dir + \"/combined_detail_result.csv\"\n",
    "combine_detail_result(detail_result_dir, numCores, numTasks, utilizations, combine_detail_result_path)\n",
    "\n",
    "\n",
    "input_path = combine_detail_result_path\n",
    "output_path = result_dir + \"/correctness_per_task.csv\"\n",
    "\n",
    "check_correntness(input_path, output_path)"
   ]
  },
  {
   "cell_type": "code",
   "execution_count": 18,
   "metadata": {},
   "outputs": [
    {
     "name": "stdout",
     "output_type": "stream",
     "text": [
      "      numTasks  utilization  dataset_index   name  WCRT(sim)  WCRT(prop)\n",
      "1503         6          0.8             33  task4     507757      469804\n",
      "5586        12          0.8             20  task7     659799      439240\n",
      "5742        12          0.8             42  task7     554488      445392\n",
      "8986        15          0.8             31  task2     535405      473884\n",
      "8990        15          0.8             31  task6     544274      473884\n"
     ]
    }
   ],
   "source": [
    "df = pd.read_csv(combine_detail_result_path, sep=\",\")\n",
    "\n",
    "# wrong_result = df[(df['WCRT(sim)'] > df['WCRT(prop)']) & (df['WCRT(prop)'] != 0)]\n",
    "wrong_result = df[(df['simulator_schedulability'] == False) & (df['proposed_schedulability'] == True)]\n",
    "\n",
    "print(wrong_result[['numTasks', 'utilization', 'dataset_index', 'name', 'WCRT(sim)', 'WCRT(prop)']])"
   ]
  }
 ],
 "metadata": {
  "kernelspec": {
   "display_name": "venv",
   "language": "python",
   "name": "python3"
  },
  "language_info": {
   "codemirror_mode": {
    "name": "ipython",
    "version": 3
   },
   "file_extension": ".py",
   "mimetype": "text/x-python",
   "name": "python",
   "nbconvert_exporter": "python",
   "pygments_lexer": "ipython3",
   "version": "3.8.10"
  }
 },
 "nbformat": 4,
 "nbformat_minor": 2
}
