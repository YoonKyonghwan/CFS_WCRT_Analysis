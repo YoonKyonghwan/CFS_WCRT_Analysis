{
 "cells": [
  {
   "cell_type": "code",
   "execution_count": 1,
   "metadata": {},
   "outputs": [],
   "source": [
    "from functions import *"
   ]
  },
  {
   "cell_type": "code",
   "execution_count": 2,
   "metadata": {},
   "outputs": [],
   "source": [
    "# Read the CSV file into a DataFrame\n",
    "result_dir = \"../../exp_results\""
   ]
  },
  {
   "cell_type": "code",
   "execution_count": 3,
   "metadata": {},
   "outputs": [
    {
     "name": "stdout",
     "output_type": "stream",
     "text": [
      "    numTasks  utilization  TP  TN  FP  FN  accuracy\n",
      "0        3.0          0.2  50   0   0   0      1.00\n",
      "1        3.0          0.4  45   3   0   2      0.96\n",
      "2        3.0          0.6  46   4   0   0      1.00\n",
      "3        3.0          0.8  31  18   0   1      0.98\n",
      "4        6.0          0.2  48   0   0   2      0.96\n",
      "5        6.0          0.4  37   9   0   4      0.92\n",
      "6        6.0          0.6  32  13   0   5      0.90\n",
      "7        6.0          0.8  16  31   0   3      0.94\n",
      "8        9.0          0.2  44   0   0   6      0.88\n",
      "9        9.0          0.4  33   9   0   8      0.84\n",
      "10       9.0          0.6  20  24   0   6      0.88\n",
      "11       9.0          0.8   6  41   0   3      0.94\n",
      "12      12.0          0.2  41   0   0   9      0.82\n",
      "13      12.0          0.4  21  15   0  14      0.72\n",
      "14      12.0          0.6  14  26   0  10      0.80\n",
      "15      12.0          0.8   4  43   0   3      0.94\n",
      "16      15.0          0.2  36   0   0  14      0.72\n",
      "17      15.0          0.4  15  19   0  16      0.68\n",
      "18      15.0          0.6   9  34   0   7      0.86\n",
      "19      15.0          0.8   0  46   0   4      0.92\n"
     ]
    }
   ],
   "source": [
    "summary_path = result_dir + \"/result_summary.csv\"\n",
    "output_path = result_dir + \"/correctness_per_dataset.csv\"\n",
    "\n",
    "check_correntness(summary_path, output_path)"
   ]
  },
  {
   "cell_type": "code",
   "execution_count": 4,
   "metadata": {},
   "outputs": [
    {
     "name": "stdout",
     "output_type": "stream",
     "text": [
      "FN_info\n",
      "    nTasks  util  tasksetIndex  sched(Sim)  sched(proposed)\n",
      "52       3   0.4             2        True            False\n",
      "70       3   0.4            20        True            False\n",
      "\n",
      "\n",
      "Taskset_index:  2\n",
      "    WCRT(Sim)  sched(Sim)  WCRT(proposed)  sched(proposed)\n",
      "id                                                        \n",
      "1       74861        True           77469             True\n",
      "2      132742        True          132742             True\n",
      "3       92316        True          100571            False\n",
      "\n",
      "\n",
      "Taskset_index:  20\n",
      "    WCRT(Sim)  sched(Sim)  WCRT(proposed)  sched(proposed)\n",
      "id                                                        \n",
      "1      316848        True          317124             True\n",
      "2      147210        True          168275             True\n",
      "3      185340        True          201336            False\n"
     ]
    }
   ],
   "source": [
    "summary_path = result_dir + \"/result_summary.csv\"\n",
    "\n",
    "num_cores = 1\n",
    "num_tasks = 3\n",
    "utilization =0.4 \n",
    "detail_result_dir = result_dir + \"/detail_result\"\n",
    "\n",
    "FN_subset_info = search_FN_info(summary_path, num_tasks, utilization)\n",
    "print(\"FN_info\")\n",
    "print(FN_subset_info)\n",
    "\n",
    "taskset_indice = FN_subset_info[\"tasksetIndex\"].tolist()\n",
    "for taskset_index in taskset_indice:\n",
    "    print(\"\\n\\nTaskset_index: \", taskset_index)\n",
    "    detail_result = show_detail_result(detail_result_dir, num_cores, num_tasks, utilization, taskset_index)\n",
    "    print(detail_result)"
   ]
  },
  {
   "cell_type": "code",
   "execution_count": 5,
   "metadata": {},
   "outputs": [
    {
     "name": "stdout",
     "output_type": "stream",
     "text": [
      "    numTasks  utilization   TP  TN  FP  FN  accuracy\n",
      "0        3.0          0.2  150   0   0   0  1.000000\n",
      "1        3.0          0.4  139   0   0   2  0.985816\n",
      "2        3.0          0.6  138   0   0   0  1.000000\n",
      "3        3.0          0.8   95   0   0   1  0.989583\n",
      "4        6.0          0.2  298   0   0   2  0.993333\n",
      "5        6.0          0.4  242   0   0   4  0.983740\n",
      "6        6.0          0.6  217   0   0   5  0.977477\n",
      "7        6.0          0.8  111   0   0   3  0.973684\n",
      "8        9.0          0.2  444   0   0   6  0.986667\n",
      "9        9.0          0.4  361   0   0   8  0.978320\n",
      "10       9.0          0.6  227   0   0   7  0.970085\n",
      "11       9.0          0.8   77   0   0   4  0.950617\n",
      "12      12.0          0.2  590   0   0  10  0.983333\n",
      "13      12.0          0.4  406   0   0  14  0.966667\n",
      "14      12.0          0.6  277   1   0  10  0.965278\n",
      "15      12.0          0.8   77   0   0   7  0.916667\n",
      "16      15.0          0.2  733   1   0  16  0.978667\n",
      "17      15.0          0.4  446   0   0  19  0.959140\n",
      "18      15.0          0.6  230   0   0  10  0.958333\n",
      "19      15.0          0.8   51   0   0   9  0.850000\n"
     ]
    }
   ],
   "source": [
    "# check conservativeness of results for each task\n",
    "detail_result_dir = result_dir + \"/detail_result\"\n",
    "combine_detail_result_path = detail_result_dir + \"/combined_detail_result.csv\"\n",
    "combine_detail_result(summary_path,  detail_result_dir, combine_detail_result_path)\n",
    "\n",
    "output_path = result_dir + \"/correctness_per_task.csv\"\n",
    "check_correntness(combine_detail_result_path, output_path)"
   ]
  },
  {
   "cell_type": "code",
   "execution_count": 6,
   "metadata": {},
   "outputs": [
    {
     "name": "stdout",
     "output_type": "stream",
     "text": [
      "      numCores  numTasks  utilization  tasksetIndex   name  WCRT(sim)   \n",
      "3783         1        12          0.6            42  task7     103604  \\\n",
      "4069         1        15          0.2             9  task2     100330   \n",
      "\n",
      "      simulator_schedulability  WCRT(prop)  proposed_schedulability  \n",
      "3783                     False      162309                    False  \n",
      "4069                     False      111996                    False  \n"
     ]
    }
   ],
   "source": [
    "import pandas as pd\n",
    "\n",
    "combine_detail_result = pd.read_csv(combine_detail_result_path, sep=\",\")\n",
    "TN_subset_info = combine_detail_result[combine_detail_result[\"simulator_schedulability\"] == False]\n",
    "print(TN_subset_info)"
   ]
  },
  {
   "cell_type": "code",
   "execution_count": 7,
   "metadata": {},
   "outputs": [],
   "source": [
    "## print results that WCRT(sim) > WCRT(proposed)\n",
    "# print_non_conservative_results(combine_detail_result_path)\n",
    "\n",
    "# assert that non convervative results are occured only when the system is not schedulable\n",
    "# check_non_conservative_results(summary_path, combine_detail_result_path)"
   ]
  }
 ],
 "metadata": {
  "kernelspec": {
   "display_name": "venv",
   "language": "python",
   "name": "python3"
  },
  "language_info": {
   "codemirror_mode": {
    "name": "ipython",
    "version": 3
   },
   "file_extension": ".py",
   "mimetype": "text/x-python",
   "name": "python",
   "nbconvert_exporter": "python",
   "pygments_lexer": "ipython3",
   "version": "3.8.10"
  }
 },
 "nbformat": 4,
 "nbformat_minor": 2
}
