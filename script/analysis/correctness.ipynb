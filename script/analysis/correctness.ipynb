{
 "cells": [
  {
   "cell_type": "code",
   "execution_count": null,
   "metadata": {},
   "outputs": [],
   "source": [
    "from functions import *\n",
    "for lambda_val in [0.0, 1.0, 2.0, 3.0, 3.25, 3.5, 3.75, 4.0]:\n",
    "    result_dir = \"../../exp_results_test_20240328_30ms_\" + str(lambda_val) + \"lambda\"\n",
    "    \n",
    "    summary_path = result_dir + \"/result_summary.csv\"\n",
    "    output_path = result_dir + \"/correctness_per_dataset.csv\"\n",
    "\n",
    "    print(\"\\nlambda : \", lambda_val)\n",
    "    check_correntness(summary_path, output_path)"
   ]
  },
  {
   "cell_type": "code",
   "execution_count": 6,
   "metadata": {},
   "outputs": [
    {
     "name": "stdout",
     "output_type": "stream",
     "text": [
      "    numTasks  utilization   TP  TN  FP  FN  accuracy\n",
      "0        3.0          0.4  100   0   0   0      1.00\n",
      "1        3.0          0.6  100   0   0   0      1.00\n",
      "2        3.0          0.8   97   0   1   2      0.97\n",
      "3        6.0          0.4  100   0   0   0      1.00\n",
      "4        6.0          0.6   97   0   0   3      0.97\n",
      "5        6.0          0.8   94   3   2   1      0.97\n",
      "6        9.0          0.4  100   0   0   0      1.00\n",
      "7        9.0          0.6   94   1   0   5      0.95\n",
      "8        9.0          0.8   73   9   6  12      0.82\n",
      "9       12.0          0.4   87  12   0   1      0.99\n",
      "10      12.0          0.6   52  39   0   9      0.91\n",
      "11      12.0          0.8   31  56   3  10      0.87\n",
      "num_TP :  1025\n",
      "total accuracy :  0.9541666666666666\n"
     ]
    }
   ],
   "source": [
    "from functions import *\n",
    "result_dir = \"../../exp_results_test_20240328_30ms_final_5\"\n",
    "    \n",
    "summary_path = result_dir + \"/result_summary.csv\"\n",
    "output_path = result_dir + \"/correctness_per_dataset.csv\"\n",
    "\n",
    "check_correntness(summary_path, output_path)"
   ]
  },
  {
   "cell_type": "code",
   "execution_count": 2,
   "metadata": {},
   "outputs": [
    {
     "name": "stdout",
     "output_type": "stream",
     "text": [
      "    numTasks  utilization  CFS  FIFO  RR   RM\n",
      "0        3.0          0.4  100    38  43  100\n",
      "1        3.0          0.6  100    18  24  100\n",
      "2        3.0          0.8   98     8  14  100\n",
      "3        6.0          0.4  100     8   8  100\n",
      "4        6.0          0.6   97     1   1  100\n",
      "5        6.0          0.8   96     0   2  100\n",
      "6        9.0          0.4  100     0   0  100\n",
      "7        9.0          0.6   94     1   1  100\n",
      "8        9.0          0.8   79     0   0  100\n",
      "9       12.0          0.4   87     2   2  100\n",
      "10      12.0          0.6   52     0   0  100\n",
      "11      12.0          0.8   34     0   0  100\n"
     ]
    }
   ],
   "source": [
    "import pandas as pd\n",
    "\n",
    "result_dir = \"../../exp_results_test_20240328_30ms_3.25lambda\"\n",
    "\n",
    "input_path = result_dir + \"/result_summary.csv\"\n",
    "\n",
    "df = pd.read_csv(input_path, sep=\",\")\n",
    "\n",
    "results = []\n",
    "combinations = df[['numTasks', 'utilization']].drop_duplicates()\n",
    "\n",
    "for i, (num_tasks, utilization) in combinations.iterrows():\n",
    "    subset = df[(df['numTasks'] == num_tasks) & (df['utilization'] == utilization)]\n",
    "    \n",
    "    # count the number of schedulable tasks by proposed algorithm\n",
    "    num_sched_CFS = subset[subset['proposed_schedulability'] == True].shape[0]\n",
    "    num_sched_FIFO = subset[subset['FIFO_schedulability'] == True].shape[0]\n",
    "    num_sched_RR = subset[subset['RR_schedulability'] == True].shape[0]\n",
    "    num_sched_RM = subset[subset['RM_schedulability'] == True].shape[0]\n",
    "    \n",
    "    results.append([num_tasks, utilization, num_sched_CFS, num_sched_FIFO, num_sched_RR, num_sched_RM])\n",
    "\n",
    "results_df = pd.DataFrame(results, columns=['numTasks', 'utilization', 'CFS', 'FIFO', 'RR', 'RM'])\n",
    "results_df = results_df.sort_values(['numTasks', 'utilization'])\n",
    "print(results_df)\n",
    "    "
   ]
  },
  {
   "cell_type": "code",
   "execution_count": null,
   "metadata": {},
   "outputs": [],
   "source": [
    "print(df.columns)"
   ]
  },
  {
   "cell_type": "code",
   "execution_count": 3,
   "metadata": {},
   "outputs": [
    {
     "ename": "NameError",
     "evalue": "name 'combine_detail_result' is not defined",
     "output_type": "error",
     "traceback": [
      "\u001b[0;31m---------------------------------------------------------------------------\u001b[0m",
      "\u001b[0;31mNameError\u001b[0m                                 Traceback (most recent call last)",
      "Cell \u001b[0;32mIn[3], line 4\u001b[0m\n\u001b[1;32m      2\u001b[0m detail_result_dir \u001b[38;5;241m=\u001b[39m result_dir \u001b[38;5;241m+\u001b[39m \u001b[38;5;124m\"\u001b[39m\u001b[38;5;124m/detail_result\u001b[39m\u001b[38;5;124m\"\u001b[39m\n\u001b[1;32m      3\u001b[0m combine_detail_result_path \u001b[38;5;241m=\u001b[39m detail_result_dir \u001b[38;5;241m+\u001b[39m \u001b[38;5;124m\"\u001b[39m\u001b[38;5;124m/combined_detail_result.csv\u001b[39m\u001b[38;5;124m\"\u001b[39m\n\u001b[0;32m----> 4\u001b[0m \u001b[43mcombine_detail_result\u001b[49m(summary_path,  detail_result_dir, combine_detail_result_path)\n\u001b[1;32m      6\u001b[0m output_path \u001b[38;5;241m=\u001b[39m result_dir \u001b[38;5;241m+\u001b[39m \u001b[38;5;124m\"\u001b[39m\u001b[38;5;124m/correctness_per_task.csv\u001b[39m\u001b[38;5;124m\"\u001b[39m\n\u001b[1;32m      7\u001b[0m check_correntness(combine_detail_result_path, output_path)\n",
      "\u001b[0;31mNameError\u001b[0m: name 'combine_detail_result' is not defined"
     ]
    }
   ],
   "source": [
    "# Check the conservativeness of each task in cases where the schedulability analysis results in a True Positive (TP).\n",
    "detail_result_dir = result_dir + \"/detail_result\"\n",
    "combine_detail_result_path = detail_result_dir + \"/combined_detail_result.csv\"\n",
    "combine_detail_result(summary_path,  detail_result_dir, combine_detail_result_path)\n",
    "\n",
    "output_path = result_dir + \"/correctness_per_task.csv\"\n",
    "check_correntness(combine_detail_result_path, output_path)"
   ]
  }
 ],
 "metadata": {
  "kernelspec": {
   "display_name": "venv",
   "language": "python",
   "name": "python3"
  },
  "language_info": {
   "codemirror_mode": {
    "name": "ipython",
    "version": 3
   },
   "file_extension": ".py",
   "mimetype": "text/x-python",
   "name": "python",
   "nbconvert_exporter": "python",
   "pygments_lexer": "ipython3",
   "version": "3.8.10"
  }
 },
 "nbformat": 4,
 "nbformat_minor": 2
}
