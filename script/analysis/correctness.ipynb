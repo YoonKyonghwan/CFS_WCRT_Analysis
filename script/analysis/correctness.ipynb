{
 "cells": [
  {
   "cell_type": "code",
   "execution_count": 1,
   "metadata": {},
   "outputs": [],
   "source": [
    "import pandas as pd\n",
    "from sklearn.metrics import confusion_matrix\n",
    "\n",
    "def check_correntness(input_path, output_dir):\n",
    "    df = pd.read_csv(input_path, sep=\",\")\n",
    "\n",
    "    # Initialize empty lists to store the results\n",
    "    results = []\n",
    "\n",
    "    # Get unique combinations of numTasks and utilization\n",
    "    combinations = df[['numTasks', 'utilization']].drop_duplicates()\n",
    "\n",
    "    # Loop through each combination\n",
    "    for i, (num_tasks, utilization) in combinations.iterrows():\n",
    "        # Subset the data for the current combination\n",
    "        subset = df[(df['numTasks'] == num_tasks) & (df['utilization'] == utilization)]\n",
    "\n",
    "        # Calculate confusion matrix for the subset\n",
    "        confusion = confusion_matrix(subset['simulator_schedulability'], subset['proposed_schedulability'])\n",
    "\n",
    "        # Calculate True Positives (TP), True Negatives (TN), False Positives (FP), and False Negatives (FN)\n",
    "        if (confusion.shape == (2, 2)):\n",
    "            TP = confusion[1, 1]\n",
    "            TN = confusion[0, 0]\n",
    "            FP = confusion[0, 1]\n",
    "            FN = confusion[1, 0]\n",
    "        else:\n",
    "            assert confusion.shape == (1, 1)\n",
    "            if subset['simulator_schedulability'].iloc[0] == False:\n",
    "                TP = 0\n",
    "                TN = confusion[0, 0]\n",
    "                FP = 0\n",
    "                FN = 0\n",
    "            else:\n",
    "                TP = confusion[0, 0]\n",
    "                TN = 0\n",
    "                FP = 0\n",
    "                FN = 0\n",
    "                \n",
    "        accuracy = (TP + TN) / (TP + TN + FP + FN)\n",
    "        # precision = TP / (TP + FP) if (TP + FP) != 0 else 0\n",
    "        # recall = TP / (TP + FN) if (TP + FN) != 0 else 0\n",
    "\n",
    "        # Append the results to the list\n",
    "        results.append([num_tasks, utilization, TP, TN, FP, FN, accuracy])\n",
    "        # Calculate accuracy, precision, and recall for the subset\n",
    "\n",
    "    # Create a DataFrame to store the results\n",
    "    results_df = pd.DataFrame(results, columns=['numTasks', 'utilization', 'TP', 'TN', 'FP', 'FN', 'accuracy'])\n",
    "\n",
    "    # Save the results to a CSV file\n",
    "    results_df.to_csv(output_dir, index=False)\n",
    "\n",
    "    # Display the results\n",
    "    print(results_df)\n"
   ]
  },
  {
   "cell_type": "code",
   "execution_count": null,
   "metadata": {},
   "outputs": [],
   "source": [
    "def show_detail_result(input_path, num_tasks, utilization):\n",
    "    df = pd.read_csv(input_path, sep=\",\")\n",
    "    subset = df[(df['numTasks'] == num_tasks) & (df['utilization'] == utilization)]\n",
    "    # merge subsets of simulator_schedulability and proposed_schedulability\n",
    "    print(subset[['simulator_schedulability', 'proposed_schedulability']])"
   ]
  },
  {
   "cell_type": "code",
   "execution_count": 2,
   "metadata": {},
   "outputs": [
    {
     "name": "stdout",
     "output_type": "stream",
     "text": [
      "    numTasks  utilization  TP  TN  FP  FN  accuracy\n",
      "0        3.0          0.2  46   2   0   2      0.96\n",
      "1        3.0          0.4  43   7   0   0      1.00\n",
      "2        3.0          0.6  41   6   0   3      0.94\n",
      "3        3.0          0.8  30  20   0   0      1.00\n",
      "4        6.0          0.2  45   1   0   4      0.92\n",
      "5        6.0          0.4  38   9   0   3      0.94\n",
      "6        6.0          0.6  29  17   0   4      0.92\n",
      "7        6.0          0.8  17  33   0   0      1.00\n",
      "8        9.0          0.2  34   6   0  10      0.80\n",
      "9        9.0          0.4  23  15   0  12      0.76\n",
      "10       9.0          0.6  13  29   0   8      0.84\n",
      "11       9.0          0.8   8  38   0   4      0.92\n",
      "12      12.0          0.2  32   7   0  11      0.78\n",
      "13      12.0          0.4  23  20   0   7      0.86\n",
      "14      12.0          0.6  14  29   0   7      0.86\n",
      "15      12.0          0.8   3  43   0   4      0.92\n",
      "16      15.0          0.2  19   7   0  24      0.52\n",
      "17      15.0          0.4  19  19   0  12      0.76\n",
      "18      15.0          0.6   8  32   0  10      0.80\n",
      "19      15.0          0.8   2  48   0   0      1.00\n"
     ]
    }
   ],
   "source": [
    "# Read the CSV file into a DataFrame\n",
    "result_dir = \"../../exp_results_backup\"\n",
    "input_path = result_dir + \"/result_summary_L10.csv\"\n",
    "output_dir = result_dir + \"/correctness_L10.csv\"\n",
    "\n",
    "check_correntness(input_path, output_dir)"
   ]
  },
  {
   "cell_type": "code",
   "execution_count": 3,
   "metadata": {},
   "outputs": [
    {
     "name": "stdout",
     "output_type": "stream",
     "text": [
      "    numTasks  utilization  TP  TN  FP  FN  accuracy\n",
      "0        3.0          0.2  45   3   0   2  0.960000\n",
      "1        3.0          0.4  40   7   0   3  0.940000\n",
      "2        3.0          0.6  37   7   0   9  0.830189\n",
      "3        3.0          0.8  30  20   0   0  1.000000\n",
      "4        6.0          0.2  41   2   0   7  0.860000\n",
      "5        6.0          0.4  32  10   0   8  0.840000\n",
      "6        6.0          0.6  24  18   0   8  0.840000\n",
      "7        6.0          0.8  17  33   0   0  1.000000\n",
      "8        9.0          0.2  29   7   0  14  0.720000\n",
      "9        9.0          0.4  17  16   0  17  0.660000\n",
      "10       9.0          0.6   9  31   0  10  0.800000\n",
      "11       9.0          0.8   7  39   0   4  0.920000\n",
      "12      12.0          0.2  26   8   0  16  0.680000\n",
      "13      12.0          0.4  16  20   0  14  0.720000\n",
      "14      12.0          0.6  10  30   0  10  0.800000\n",
      "15      12.0          0.8   2  44   0   4  0.920000\n",
      "16      15.0          0.2  14  15   0  22  0.568627\n",
      "17      15.0          0.4  14  18   0  18  0.640000\n",
      "18      15.0          0.6   4  36   0  10  0.800000\n",
      "19      15.0          0.8   0  48   0   2  0.960000\n"
     ]
    }
   ],
   "source": [
    "input_path = result_dir + \"/result_summary_L20.csv\"\n",
    "output_dir = result_dir + \"/correctness_L20.csv\"\n",
    "\n",
    "check_correntness(input_path, output_dir)"
   ]
  },
  {
   "cell_type": "code",
   "execution_count": 4,
   "metadata": {},
   "outputs": [
    {
     "name": "stdout",
     "output_type": "stream",
     "text": [
      "    numTasks  utilization  TP  TN  FP  FN  accuracy\n",
      "0        3.0          0.2  45   3   0   2      0.96\n",
      "1        3.0          0.4  38   8   0   4      0.92\n",
      "2        3.0          0.6  36  10   0   4      0.92\n",
      "3        3.0          0.8  26  21   0   3      0.94\n",
      "4        6.0          0.2  39   5   0   6      0.88\n",
      "5        6.0          0.4  29  10   0  11      0.78\n",
      "6        6.0          0.6  24  20   0   6      0.88\n",
      "7        6.0          0.8  16  31   0   3      0.94\n",
      "8        9.0          0.2  26  12   0  12      0.76\n",
      "9        9.0          0.4  16  19   0  15      0.70\n",
      "10       9.0          0.6   9  35   0   6      0.88\n",
      "11       9.0          0.8   6  39   0   5      0.90\n",
      "12      12.0          0.2  21  11   0  18      0.64\n",
      "13      12.0          0.4  15  26   0   9      0.82\n",
      "14      12.0          0.6   8  33   0   9      0.82\n",
      "15      12.0          0.8   1  45   0   4      0.92\n",
      "16      15.0          0.2  14  21   0  15      0.70\n",
      "17      15.0          0.4  13  20   0  17      0.66\n",
      "18      15.0          0.6   2  36   0  12      0.76\n",
      "19      15.0          0.8   0  47   0   3      0.94\n"
     ]
    }
   ],
   "source": [
    "input_path = result_dir + \"/result_summary_L30.csv\"\n",
    "output_dir = result_dir + \"/correctness_L30.csv\"\n",
    "\n",
    "check_correntness(input_path, output_dir)"
   ]
  },
  {
   "cell_type": "code",
   "execution_count": 6,
   "metadata": {},
   "outputs": [
    {
     "name": "stdout",
     "output_type": "stream",
     "text": [
      "     simulator_schedulability  proposed_schedulability\n",
      "100                     False                    False\n",
      "101                     False                    False\n",
      "102                      True                    False\n",
      "103                      True                     True\n",
      "104                      True                     True\n",
      "105                      True                     True\n",
      "106                      True                     True\n",
      "107                      True                     True\n",
      "108                      True                    False\n",
      "109                     False                    False\n",
      "110                      True                     True\n",
      "111                      True                     True\n",
      "112                      True                     True\n",
      "113                      True                     True\n",
      "114                      True                     True\n",
      "115                      True                     True\n",
      "116                      True                     True\n",
      "117                      True                     True\n",
      "118                      True                     True\n",
      "119                      True                     True\n",
      "120                      True                     True\n",
      "121                      True                     True\n",
      "122                     False                    False\n",
      "123                      True                     True\n",
      "124                      True                     True\n",
      "125                      True                     True\n",
      "126                      True                     True\n",
      "127                     False                    False\n",
      "128                      True                     True\n",
      "129                     False                    False\n",
      "130                      True                    False\n",
      "131                     False                    False\n",
      "132                      True                     True\n",
      "133                      True                     True\n",
      "134                      True                     True\n",
      "135                      True                     True\n",
      "136                      True                     True\n",
      "137                     False                    False\n",
      "138                      True                     True\n",
      "139                      True                     True\n",
      "140                      True                     True\n",
      "141                     False                    False\n",
      "142                      True                     True\n",
      "143                      True                     True\n",
      "144                      True                     True\n",
      "145                      True                    False\n",
      "146                     False                    False\n",
      "147                      True                     True\n",
      "148                      True                     True\n",
      "149                      True                     True\n"
     ]
    }
   ],
   "source": [
    "show_detail_result(input_path, 3, 0.6)\n"
   ]
  }
 ],
 "metadata": {
  "kernelspec": {
   "display_name": "venv",
   "language": "python",
   "name": "python3"
  },
  "language_info": {
   "codemirror_mode": {
    "name": "ipython",
    "version": 3
   },
   "file_extension": ".py",
   "mimetype": "text/x-python",
   "name": "python",
   "nbconvert_exporter": "python",
   "pygments_lexer": "ipython3",
   "version": "3.8.10"
  }
 },
 "nbformat": 4,
 "nbformat_minor": 2
}
