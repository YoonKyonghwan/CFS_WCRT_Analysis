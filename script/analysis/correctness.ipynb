{
 "cells": [
  {
   "cell_type": "code",
   "execution_count": 1,
   "metadata": {},
   "outputs": [],
   "source": [
    "# from functions import *\n",
    "# for lambda_val in [0.0, 1.0, 2.0, 3.0, 3.25, 3.5, 3.75, 4.0]:\n",
    "#     result_dir = \"../../exp_results_test_20240328_30ms_\" + str(lambda_val) + \"lambda\"\n",
    "    \n",
    "#     summary_path = result_dir + \"/result_summary.csv\"\n",
    "#     output_path = result_dir + \"/correctness_per_dataset.csv\"\n",
    "\n",
    "#     print(\"\\nlambda : \", lambda_val)\n",
    "#     check_correntness(summary_path, output_path)"
   ]
  },
  {
   "cell_type": "code",
   "execution_count": 2,
   "metadata": {},
   "outputs": [
    {
     "name": "stdout",
     "output_type": "stream",
     "text": [
      "    numTasks  utilization   TP  TN  FP  FN  accuracy\n",
      "0        3.0          0.4  100   0   0   0      1.00\n",
      "1        3.0          0.6  100   0   0   0      1.00\n",
      "2        3.0          0.8   98   0   0   2      0.98\n",
      "3        6.0          0.4  100   0   0   0      1.00\n",
      "4        6.0          0.6   97   0   0   3      0.97\n",
      "5        6.0          0.8   96   3   0   1      0.99\n",
      "6        9.0          0.4  100   0   0   0      1.00\n",
      "7        9.0          0.6   94   4   0   2      0.98\n",
      "8        9.0          0.8   79  13   0   8      0.92\n",
      "9       12.0          0.4   87  13   0   0      1.00\n",
      "10      12.0          0.6   52  46   0   2      0.98\n",
      "11      12.0          0.8   34  62   0   4      0.96\n",
      "num_TP :  1037\n",
      "total accuracy :  0.9816666666666668\n"
     ]
    }
   ],
   "source": [
    "# compare with the simulator\n",
    "from functions import *\n",
    "result_dir = \"../../exp_results_test_20240328_30ms_final_5\"\n",
    "    \n",
    "summary_path = result_dir + \"/result_summary.csv\"\n",
    "output_path = result_dir + \"/correctness_per_dataset.csv\"\n",
    "\n",
    "check_correntness(summary_path, output_path)"
   ]
  },
  {
   "cell_type": "code",
   "execution_count": 4,
   "metadata": {},
   "outputs": [
    {
     "name": "stdout",
     "output_type": "stream",
     "text": [
      "    numTasks  utilization  TP  TN  FP  FN  accuracy\n",
      "0        3.0          0.4  30   0   0   0  1.000000\n",
      "1        3.0          0.6  30   0   0   0  1.000000\n",
      "2        3.0          0.8  30   0   0   0  1.000000\n",
      "3        6.0          0.4  30   0   0   0  1.000000\n",
      "4        6.0          0.6  28   0   0   2  0.933333\n",
      "5        6.0          0.8  28   0   0   2  0.933333\n",
      "6        9.0          0.4  30   0   0   0  1.000000\n",
      "7        9.0          0.6  28   0   0   2  0.933333\n",
      "8        9.0          0.8  20   0   0  10  0.666667\n",
      "9       12.0          0.4  26   0   0   4  0.866667\n",
      "10      12.0          0.6  15   0   0  15  0.500000\n",
      "11      12.0          0.8   6   0   0  24  0.200000\n",
      "total accuracy :  0.8361111111111111\n"
     ]
    }
   ],
   "source": [
    "# compare with real linux\n",
    "from functions import *\n",
    "import pandas as pd\n",
    "proposed_result_path = \"../../exp_results_test_20240328_30ms_final_7_real/result_summary.csv\"\n",
    "real_result_path = \"../../scheduler_comparision/app/exp_results/summary.csv\"\n",
    "    \n",
    "proposed_df = pd.read_csv(proposed_result_path, sep=\",\")\n",
    "real_df = pd.read_csv(real_result_path, sep=\",\")\n",
    "\n",
    "# filter proposed_df by the same configurations in real_df\n",
    "proposed_df = proposed_df[proposed_df['tasksetIndex'] < 30]\n",
    "proposed_df = proposed_df[['numCores',  'numTasks',  'utilization', 'tasksetIndex', 'proposed_schedulability']]\n",
    "\n",
    "# merge proposed_df and real_df with ['numCores',  'numTasks',  'utilization', 'tasksetIndex']\n",
    "merged_df = pd.merge(proposed_df, real_df, on=['numCores',  'numTasks',  'utilization', 'tasksetIndex'])\n",
    "\n",
    "merged_df = merged_df.drop(columns=['numCores'])\n",
    "\n",
    "results = []\n",
    "configurations = proposed_df[['numTasks', 'utilization']].drop_duplicates()\n",
    "for i, (num_tasks, utilization) in configurations.iterrows():\n",
    "        subset = merged_df[(merged_df['numTasks'] == num_tasks) & (merged_df['utilization'] == utilization)]\n",
    "        \n",
    "        # Calculate confusion matrix for the subset\n",
    "        confusion = confusion_matrix(subset['realLinux_schedulability'], subset['proposed_schedulability'])\n",
    "        \n",
    "        # Calculate True Positives (TP), True Negatives (TN), False Positives (FP), and False Negatives (FN)\n",
    "        if (confusion.shape == (2, 2)):\n",
    "            TP = confusion[1, 1]\n",
    "            TN = confusion[0, 0]\n",
    "            FP = confusion[0, 1]\n",
    "            FN = confusion[1, 0]\n",
    "        else:\n",
    "            assert confusion.shape == (1, 1), \"need to check the confusion matrix : confusion.shape\" + str(confusion.shape)\n",
    "            if subset['realLinux_schedulability'].iloc[0] == False:\n",
    "                TP = 0\n",
    "                TN = confusion[0, 0]\n",
    "                FP = 0\n",
    "                FN = 0\n",
    "            else:\n",
    "                TP = confusion[0, 0]\n",
    "                TN = 0\n",
    "                FP = 0\n",
    "                FN = 0\n",
    "                \n",
    "        accuracy = (TP + TN) / (TP + TN + FP + FN)\n",
    "        # precision = TP / (TP + FP) if (TP + FP) != 0 else 0\n",
    "        # recall = TP / (TP + FN) if (TP + FN) != 0 else 0\n",
    "\n",
    "        # Append the results to the list\n",
    "        results.append([num_tasks, utilization, TP, TN, FP, FN, accuracy])\n",
    "\n",
    "results_df = pd.DataFrame(results, columns=['numTasks', 'utilization', 'TP', 'TN', 'FP', 'FN', 'accuracy'])\n",
    "results_df = results_df.sort_values(['numTasks', 'utilization'])\n",
    "print(results_df)\n",
    "total_accuracy = results_df['accuracy'].mean()\n",
    "print(\"total accuracy : \", total_accuracy)\n",
    "\n"
   ]
  },
  {
   "cell_type": "code",
   "execution_count": 4,
   "metadata": {},
   "outputs": [
    {
     "name": "stdout",
     "output_type": "stream",
     "text": [
      "Empty DataFrame\n",
      "Columns: [numTasks, utilization, tasksetIndex, proposed_schedulability, realLinux_schedulability]\n",
      "Index: []\n"
     ]
    }
   ],
   "source": [
    "print(merged_df[(merged_df['proposed_schedulability'] == True) & (merged_df['realLinux_schedulability'] == False)])"
   ]
  },
  {
   "cell_type": "code",
   "execution_count": 5,
   "metadata": {},
   "outputs": [],
   "source": [
    "# import pandas as pd\n",
    "\n",
    "# result_dir = \"../../exp_results_test_20240328_30ms_3.25lambda\"\n",
    "\n",
    "# input_path = result_dir + \"/result_summary.csv\"\n",
    "\n",
    "# df = pd.read_csv(input_path, sep=\",\")\n",
    "\n",
    "# results = []\n",
    "# combinations = df[['numTasks', 'utilization']].drop_duplicates()\n",
    "\n",
    "# for i, (num_tasks, utilization) in combinations.iterrows():\n",
    "#     subset = df[(df['numTasks'] == num_tasks) & (df['utilization'] == utilization)]\n",
    "    \n",
    "#     # count the number of schedulable tasks by proposed algorithm\n",
    "#     num_sched_CFS = subset[subset['proposed_schedulability'] == True].shape[0]\n",
    "#     num_sched_FIFO = subset[subset['FIFO_schedulability'] == True].shape[0]\n",
    "#     num_sched_RR = subset[subset['RR_schedulability'] == True].shape[0]\n",
    "#     num_sched_RM = subset[subset['RM_schedulability'] == True].shape[0]\n",
    "    \n",
    "#     results.append([num_tasks, utilization, num_sched_CFS, num_sched_FIFO, num_sched_RR, num_sched_RM])\n",
    "\n",
    "# results_df = pd.DataFrame(results, columns=['numTasks', 'utilization', 'CFS', 'FIFO', 'RR', 'RM'])\n",
    "# results_df = results_df.sort_values(['numTasks', 'utilization'])\n",
    "# print(results_df)\n",
    "    "
   ]
  }
 ],
 "metadata": {
  "kernelspec": {
   "display_name": "venv",
   "language": "python",
   "name": "python3"
  },
  "language_info": {
   "codemirror_mode": {
    "name": "ipython",
    "version": 3
   },
   "file_extension": ".py",
   "mimetype": "text/x-python",
   "name": "python",
   "nbconvert_exporter": "python",
   "pygments_lexer": "ipython3",
   "version": "3.8.10"
  }
 },
 "nbformat": 4,
 "nbformat_minor": 2
}
