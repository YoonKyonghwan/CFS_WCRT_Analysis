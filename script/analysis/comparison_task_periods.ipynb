{
 "cells": [
  {
   "cell_type": "code",
   "execution_count": 1,
   "metadata": {},
   "outputs": [
    {
     "name": "stdout",
     "output_type": "stream",
     "text": [
      "    numTasks  utilization  10ms~1sec  30ms~3sec  50ms~5sec  70ms~7sec\n",
      "0        4.0          0.2        100        100        100        100\n",
      "1        4.0          0.4         99        100        100        100\n",
      "2        4.0          0.6         78        100        100        100\n",
      "3        4.0          0.8         76         95         95         98\n",
      "4        8.0          0.2         65        100        100        100\n",
      "5        8.0          0.4         50        100        100        100\n",
      "6        8.0          0.6         37         91        100        100\n",
      "7        8.0          0.8         20         70         88         90\n",
      "8       12.0          0.2         36         98        100        100\n",
      "9       12.0          0.4          9         67         99        100\n",
      "10      12.0          0.6          3         33         94        100\n",
      "11      12.0          0.8          2          9         47         71\n",
      "12      16.0          0.2          9         62         99        100\n",
      "13      16.0          0.4          0         12         79        100\n",
      "14      16.0          0.6          0          6         24         77\n",
      "15      16.0          0.8          0          1          5         27\n",
      "16      20.0          0.2          1         24         85        100\n",
      "17      20.0          0.4          0          1         17         75\n",
      "18      20.0          0.6          0          0          2         14\n",
      "19      20.0          0.8          0          0          0          1\n",
      "total_TP_10ms_1ms:  585 ( 0.2925 )\n",
      "total_TP_30ms_3ms:  1069 ( 0.5345 )\n",
      "total_TP_50ms_5ms:  1434 ( 0.717 )\n",
      "total_TP_70ms_7ms:  1653 ( 0.8265 )\n"
     ]
    }
   ],
   "source": [
    "# For overestimation (vs simulation with GA)\n",
    "from functions import *\n",
    "import pandas as pd\n",
    "result_dir = \"../../exp_results_proposed_GA_101000_random\"\n",
    "GA_num_TP_10, _, GA_results_df_10 = check_correctness_simulator(result_dir + \"/result_summary.csv\")\n",
    "GA_results_df_10 = GA_results_df_10[['numTasks', 'utilization', 'TP']]\n",
    "GA_results_df_10 = GA_results_df_10.rename(columns={'TP': '10ms~1sec'})\n",
    "result_dir = \"../../exp_results_proposed_GA_303000_random\"\n",
    "GA_num_TP_30, _, GA_results_df_30 = check_correctness_simulator(result_dir + \"/result_summary.csv\")\n",
    "GA_results_df_30 = GA_results_df_30[['numTasks', 'utilization', 'TP']]\n",
    "GA_results_df_30 = GA_results_df_30.rename(columns={'TP': '30ms~3sec'})\n",
    "result_dir = \"../../exp_results_proposed_GA_505000_random\"\n",
    "GA_num_TP_50, _, GA_results_df_50 = check_correctness_simulator(result_dir + \"/result_summary.csv\")\n",
    "GA_results_df_50 = GA_results_df_50[['numTasks', 'utilization', 'TP']]\n",
    "GA_results_df_50 = GA_results_df_50.rename(columns={'TP': '50ms~5sec'})\n",
    "result_dir = \"../../exp_results_proposed_GA_707000_random\"\n",
    "GA_num_TP_70, _, GA_results_df_70 = check_correctness_simulator(result_dir + \"/result_summary.csv\")\n",
    "GA_results_df_70 = GA_results_df_70[['numTasks', 'utilization', 'TP']]\n",
    "GA_results_df_70 = GA_results_df_70.rename(columns={'TP': '70ms~7sec'})\n",
    "\n",
    "merged = pd.merge(GA_results_df_10, GA_results_df_30, on=['numTasks', 'utilization'])\n",
    "merged = pd.merge(merged, GA_results_df_50, on=['numTasks', 'utilization'])\n",
    "merged = pd.merge(merged, GA_results_df_70, on=['numTasks', 'utilization'])\n",
    "\n",
    "merged.to_csv('schedulability_with_different_period_setting.csv', index=False)\n",
    "print(merged)\n",
    "\n",
    "total_num_tasksets = 2000\n",
    "print(\"total_TP_10ms_1ms: \", sum(merged['10ms~1sec']), \"(\", sum(merged['10ms~1sec'])/total_num_tasksets, \")\")\n",
    "print(\"total_TP_30ms_3ms: \", sum(merged['30ms~3sec']), \"(\", sum(merged['30ms~3sec'])/total_num_tasksets, \")\")\n",
    "print(\"total_TP_50ms_5ms: \", sum(merged['50ms~5sec']), \"(\", sum(merged['50ms~5sec'])/total_num_tasksets, \")\")\n",
    "print(\"total_TP_70ms_7ms: \", sum(merged['70ms~7sec']), \"(\", sum(merged['70ms~7sec'])/total_num_tasksets, \")\")"
   ]
  }
 ],
 "metadata": {
  "kernelspec": {
   "display_name": "Python 3",
   "language": "python",
   "name": "python3"
  },
  "language_info": {
   "codemirror_mode": {
    "name": "ipython",
    "version": 3
   },
   "file_extension": ".py",
   "mimetype": "text/x-python",
   "name": "python",
   "nbconvert_exporter": "python",
   "pygments_lexer": "ipython3",
   "version": "3.8.10"
  }
 },
 "nbformat": 4,
 "nbformat_minor": 2
}
