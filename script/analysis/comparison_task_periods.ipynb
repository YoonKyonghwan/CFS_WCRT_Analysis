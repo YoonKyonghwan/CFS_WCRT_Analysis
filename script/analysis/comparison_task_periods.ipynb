{
 "cells": [
  {
   "cell_type": "code",
   "execution_count": 1,
   "metadata": {},
   "outputs": [
    {
     "name": "stdout",
     "output_type": "stream",
     "text": [
      "    numTasks  utilization  10ms~1sec  30ms~3sec  50ms~5sec  70ms~7sec\n",
      "0        2.0          0.2        100        100        100        100\n",
      "1        2.0          0.4        100        100        100        100\n",
      "2        2.0          0.6        100        100        100        100\n",
      "3        2.0          0.8        100        100        100        100\n",
      "4        4.0          0.2        100        100        100        100\n",
      "5        4.0          0.4         99        100        100        100\n",
      "6        4.0          0.6         78        100        100        100\n",
      "7        4.0          0.8         76         95         95         98\n",
      "8        6.0          0.2         70        100        100        100\n",
      "9        6.0          0.4         65        100        100        100\n",
      "10       6.0          0.6         65        100        100        100\n",
      "11       6.0          0.8         59         84         95         99\n",
      "12       8.0          0.2         65        100        100        100\n",
      "13       8.0          0.4         51        100        100        100\n",
      "14       8.0          0.6         37         91        100        100\n",
      "15       8.0          0.8         17         71         86         89\n",
      "16      10.0          0.2         39        100        100        100\n",
      "17      10.0          0.4         32         95        100        100\n",
      "18      10.0          0.6         19         69        100        100\n",
      "19      10.0          0.8          8         31         64         93\n",
      "total_TP_10ms_1ms:  1280 ( 0.64 )\n",
      "total_TP_30ms_3ms:  1836 ( 0.918 )\n",
      "total_TP_50ms_5ms:  1940 ( 0.97 )\n",
      "total_TP_70ms_7ms:  1979 ( 0.9895 )\n"
     ]
    }
   ],
   "source": [
    "# For overestimation (vs simulation with GA)\n",
    "from functions import *\n",
    "import pandas as pd\n",
    "result_dir = \"../../exp_results_proposed_GA_101000_random\"\n",
    "GA_num_TP_10, _, GA_results_df_10 = check_correctness_simulator(result_dir + \"/result_summary.csv\")\n",
    "GA_results_df_10 = GA_results_df_10[['numTasks', 'utilization', 'TP']]\n",
    "GA_results_df_10 = GA_results_df_10.rename(columns={'TP': '10ms~1sec'})\n",
    "result_dir = \"../../exp_results_proposed_GA_303000_random\"\n",
    "GA_num_TP_30, _, GA_results_df_30 = check_correctness_simulator(result_dir + \"/result_summary.csv\")\n",
    "GA_results_df_30 = GA_results_df_30[['numTasks', 'utilization', 'TP']]\n",
    "GA_results_df_30 = GA_results_df_30.rename(columns={'TP': '30ms~3sec'})\n",
    "result_dir = \"../../exp_results_proposed_GA_505000_random\"\n",
    "GA_num_TP_50, _, GA_results_df_50 = check_correctness_simulator(result_dir + \"/result_summary.csv\")\n",
    "GA_results_df_50 = GA_results_df_50[['numTasks', 'utilization', 'TP']]\n",
    "GA_results_df_50 = GA_results_df_50.rename(columns={'TP': '50ms~5sec'})\n",
    "result_dir = \"../../exp_results_proposed_GA_707000_random\"\n",
    "GA_num_TP_70, _, GA_results_df_70 = check_correctness_simulator(result_dir + \"/result_summary.csv\")\n",
    "GA_results_df_70 = GA_results_df_70[['numTasks', 'utilization', 'TP']]\n",
    "GA_results_df_70 = GA_results_df_70.rename(columns={'TP': '70ms~7sec'})\n",
    "\n",
    "merged = pd.merge(GA_results_df_10, GA_results_df_30, on=['numTasks', 'utilization'])\n",
    "merged = pd.merge(merged, GA_results_df_50, on=['numTasks', 'utilization'])\n",
    "merged = pd.merge(merged, GA_results_df_70, on=['numTasks', 'utilization'])\n",
    "\n",
    "merged.to_csv('schedulability_with_different_period_setting.csv', index=False)\n",
    "print(merged)\n",
    "\n",
    "total_num_tasksets = 2000\n",
    "print(\"total_TP_10ms_1ms: \", sum(merged['10ms~1sec']), \"(\", sum(merged['10ms~1sec'])/total_num_tasksets, \")\")\n",
    "print(\"total_TP_30ms_3ms: \", sum(merged['30ms~3sec']), \"(\", sum(merged['30ms~3sec'])/total_num_tasksets, \")\")\n",
    "print(\"total_TP_50ms_5ms: \", sum(merged['50ms~5sec']), \"(\", sum(merged['50ms~5sec'])/total_num_tasksets, \")\")\n",
    "print(\"total_TP_70ms_7ms: \", sum(merged['70ms~7sec']), \"(\", sum(merged['70ms~7sec'])/total_num_tasksets, \")\")"
   ]
  }
 ],
 "metadata": {
  "kernelspec": {
   "display_name": "venv",
   "language": "python",
   "name": "python3"
  },
  "language_info": {
   "codemirror_mode": {
    "name": "ipython",
    "version": 3
   },
   "file_extension": ".py",
   "mimetype": "text/x-python",
   "name": "python",
   "nbconvert_exporter": "python",
   "pygments_lexer": "ipython3",
   "version": "3.8.10"
  }
 },
 "nbformat": 4,
 "nbformat_minor": 2
}
