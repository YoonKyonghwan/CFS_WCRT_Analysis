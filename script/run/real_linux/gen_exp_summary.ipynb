{
 "cells": [
  {
   "cell_type": "code",
   "execution_count": 1,
   "metadata": {},
   "outputs": [],
   "source": [
    "import json\n",
    "import os\n",
    "\n",
    "num_cores = [1]\n",
    "num_tasks = [3, 6, 9, 12]\n",
    "utilizations = [0.4, 0.6, 0.8]\n",
    "\n",
    "\n",
    "def genSummary(result_dir, summary_path, num_cores, num_tasks, utilizations, num_tasksets):\n",
    "    header = \"numCores,numTasks,utilization,tasksetIndex,realLinux_schedulability\"\n",
    "    with open(summary_path, \"a\") as f:\n",
    "        f.write(header + \"\\n\")\n",
    "\n",
    "    for num_core in num_cores:\n",
    "        for num_task in num_tasks:\n",
    "            for utilization in utilizations:\n",
    "                for i in range(num_tasksets):\n",
    "                    result_file = result_dir + \"/details/\" + str(num_core) + \"cores/\" + str(num_task) + \"tasks/\" + str(utilization) + \"utilization/result_\" + str(i) + \".json\"\n",
    "                    with open(result_file, 'r') as file:\n",
    "                        tasks_result = json.load(file)\n",
    "                    assert len(tasks_result) == num_task\n",
    "                    \n",
    "                    realLinux_schedulability = True\n",
    "                    for task_result in tasks_result:\n",
    "                        if task_result[\"wcrt_ns\"] > task_result[\"deadline_ns\"]:\n",
    "                            realLinux_schedulability = False\n",
    "                            break\n",
    "                    with open(summary_path, \"a\") as f:\n",
    "                        f.write(str(num_core) + \",\" + str(num_task) + \",\" + str(utilization) + \",\" + str(i) + \",\" + str(realLinux_schedulability) + \"\\n\")\n",
    "    return"
   ]
  },
  {
   "cell_type": "code",
   "execution_count": null,
   "metadata": {},
   "outputs": [],
   "source": [
    "# generate summary of experiment results for Table3\n",
    "\n",
    "result_dir = \"../exp_results_CFS\"\n",
    "summary_path = result_dir + \"/summary.csv\"\n",
    "num_tasksets = 30\n",
    "\n",
    "# if summary file exists, remove it\n",
    "if os.path.exists(summary_path):\n",
    "    os.remove(summary_path)\n",
    "genSummary(result_dir, summary_path, num_cores, num_tasks, utilizations, num_tasksets)"
   ]
  },
  {
   "cell_type": "code",
   "execution_count": 2,
   "metadata": {},
   "outputs": [],
   "source": [
    "# generate summary of experiment results to compare 1000HZ and 250HZ.\n",
    "# not used in the paper\n",
    "\n",
    "result_dir = \"../exp_results_250HZ\"\n",
    "summary_path = result_dir + \"/summary.csv\"\n",
    "num_tasksets = 10\n",
    "\n",
    "# if summary file exists, remove it\n",
    "if os.path.exists(summary_path):\n",
    "    os.remove(summary_path)\n",
    "genSummary(result_dir, summary_path, num_cores, num_tasks, utilizations, num_tasksets)"
   ]
  }
 ],
 "metadata": {
  "kernelspec": {
   "display_name": "venv",
   "language": "python",
   "name": "python3"
  },
  "language_info": {
   "codemirror_mode": {
    "name": "ipython",
    "version": 3
   },
   "file_extension": ".py",
   "mimetype": "text/x-python",
   "name": "python",
   "nbconvert_exporter": "python",
   "pygments_lexer": "ipython3",
   "version": "3.8.10"
  }
 },
 "nbformat": 4,
 "nbformat_minor": 2
}
