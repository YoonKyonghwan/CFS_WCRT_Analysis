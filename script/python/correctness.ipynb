{
 "cells": [
  {
   "cell_type": "code",
   "execution_count": 11,
   "metadata": {},
   "outputs": [],
   "source": [
    "import pandas as pd\n",
    "import matplotlib.pyplot as plt\n",
    "\n",
    "# Read the CSV file into a DataFrame\n",
    "summary_result_path = \"../../exp_results/result_summary.csv\"\n",
    "df = pd.read_csv(summary_result_path, sep=\",\")\n",
    "\n",
    "# Calculate accuracy of 'proposed_schedulability' compared to 'simulator_schedulability'\n",
    "df['accuracy'] = df['proposed_schedulability'] == df['simulator_schedulability']\n",
    "\n",
    "# Group the data by 'numTasks' and 'utilization' and calculate the accuracy rate\n",
    "grouped_accuracy = df.groupby(['numTasks', 'utilization'])['accuracy'].mean().reset_index()"
   ]
  },
  {
   "cell_type": "code",
   "execution_count": 14,
   "metadata": {},
   "outputs": [
    {
     "name": "stdout",
     "output_type": "stream",
     "text": [
      "    numTasks  utilization  TP  TN  FP  FN  accuracy  precision    recall\n",
      "0        3.0          0.3   8   0   0   2  0.800000        1.0  0.800000\n",
      "1        3.0          0.4   3   0   0   7  0.300000        1.0  0.300000\n",
      "2        3.0          0.5   5   0   0   5  0.500000        1.0  0.500000\n",
      "3        3.0          0.6   1   0   0   9  0.100000        1.0  0.100000\n",
      "4        3.0          0.7   2   0   0   7  0.222222        1.0  0.222222\n",
      "5        3.0          0.8   1   0   0   9  0.100000        1.0  0.100000\n",
      "6        5.0          0.3   0   0   0   8  0.000000        0.0  0.000000\n",
      "7        5.0          0.4   0   0   0   9  0.000000        0.0  0.000000\n",
      "8        5.0          0.5   0   0   0  10  0.000000        0.0  0.000000\n",
      "9        5.0          0.6   0   0   0   9  0.000000        0.0  0.000000\n",
      "10       5.0          0.7   0   0   0  10  0.000000        0.0  0.000000\n",
      "11       5.0          0.8   0   0   0  10  0.000000        0.0  0.000000\n",
      "12       7.0          0.3   0   0   0   7  0.000000        0.0  0.000000\n",
      "13       7.0          0.4   0   0   0   9  0.000000        0.0  0.000000\n",
      "14       7.0          0.5   0   0   0   7  0.000000        0.0  0.000000\n",
      "15       7.0          0.6   0   0   0   9  0.000000        0.0  0.000000\n",
      "16       7.0          0.7   0   0   0  10  0.000000        0.0  0.000000\n",
      "17       7.0          0.8   0   0   0  10  0.000000        0.0  0.000000\n",
      "18       9.0          0.3   0   0   0   5  0.000000        0.0  0.000000\n",
      "19       9.0          0.4   0   0   0   9  0.000000        0.0  0.000000\n",
      "20       9.0          0.5   0   0   0   5  0.000000        0.0  0.000000\n",
      "21       9.0          0.6   0   0   0   8  0.000000        0.0  0.000000\n",
      "22       9.0          0.7   0   0   0   7  0.000000        0.0  0.000000\n",
      "23       9.0          0.8   0   0   0   9  0.000000        0.0  0.000000\n",
      "24      11.0          0.3   0   0   0   1  0.000000        0.0  0.000000\n",
      "25      11.0          0.4   0   0   0   3  0.000000        0.0  0.000000\n",
      "26      11.0          0.5   0   0   0   3  0.000000        0.0  0.000000\n",
      "27      11.0          0.6   0   0   0   4  0.000000        0.0  0.000000\n",
      "28      11.0          0.7   0   0   0   6  0.000000        0.0  0.000000\n",
      "29      11.0          0.8   0   0   0   7  0.000000        0.0  0.000000\n"
     ]
    }
   ],
   "source": [
    "import pandas as pd\n",
    "from sklearn.metrics import confusion_matrix\n",
    "\n",
    "# Read the CSV file into a DataFrame\n",
    "summary_result_path = \"../../exp_results/result_summary.csv\"\n",
    "df = pd.read_csv(summary_result_path, sep=\",\")\n",
    "\n",
    "# Initialize empty lists to store the results\n",
    "results = []\n",
    "\n",
    "# Get unique combinations of numTasks and utilization\n",
    "combinations = df[['numTasks', 'utilization']].drop_duplicates()\n",
    "\n",
    "# Loop through each combination\n",
    "for i, (num_tasks, utilization) in combinations.iterrows():\n",
    "    # Subset the data for the current combination\n",
    "    subset = df[(df['numTasks'] == num_tasks) & (df['utilization'] == utilization)]\n",
    "\n",
    "    # Calculate confusion matrix for the subset\n",
    "    confusion = confusion_matrix(subset['simulator_schedulability'], subset['proposed_schedulability'])\n",
    "\n",
    "    # Calculate True Positives (TP), True Negatives (TN), False Positives (FP), and False Negatives (FN)\n",
    "    TP = confusion[1, 1]\n",
    "    TN = confusion[0, 0]\n",
    "    FP = confusion[0, 1]\n",
    "    FN = confusion[1, 0]\n",
    "\n",
    "    # Calculate accuracy, precision, and recall for the subset\n",
    "    accuracy = (TP + TN) / (TP + TN + FP + FN)\n",
    "    precision = 0\n",
    "    if (TP + FP) != 0:\n",
    "        precision = TP / (TP + FP)\n",
    "    recall = 0\n",
    "    if (TP + FN) != 0:\n",
    "        recall = TP / (TP + FN)\n",
    "\n",
    "    # Append the results to the list\n",
    "    results.append([num_tasks, utilization, TP, TN, FP, FN, accuracy, precision, recall])\n",
    "\n",
    "# Create a DataFrame to store the results\n",
    "results_df = pd.DataFrame(results, columns=['numTasks', 'utilization', 'TP', 'TN', 'FP', 'FN', 'accuracy', 'precision', 'recall'])\n",
    "\n",
    "# Save the results to a CSV file\n",
    "# results_df.to_csv('../../exp_results/correctness_summary.csv', index=False)\n",
    "\n",
    "# Display the results\n",
    "print(results_df)\n"
   ]
  }
 ],
 "metadata": {
  "kernelspec": {
   "display_name": "venv",
   "language": "python",
   "name": "python3"
  },
  "language_info": {
   "codemirror_mode": {
    "name": "ipython",
    "version": 3
   },
   "file_extension": ".py",
   "mimetype": "text/x-python",
   "name": "python",
   "nbconvert_exporter": "python",
   "pygments_lexer": "ipython3",
   "version": "3.8.10"
  }
 },
 "nbformat": 4,
 "nbformat_minor": 2
}
